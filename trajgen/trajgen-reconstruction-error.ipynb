{
 "cells": [
  {
   "cell_type": "markdown",
   "id": "8d229a0b",
   "metadata": {},
   "source": [
    "# Reconstruction error\n",
    "\n",
    "This notebook computes the Reconstruction Error (RE) to measure the effectiveness of an adversarial model attempting to infer the original trajectory by generating a candidate trajectory. "
   ]
  },
  {
   "cell_type": "markdown",
   "id": "df314923",
   "metadata": {},
   "source": [
    "##### **Imports**"
   ]
  },
  {
   "cell_type": "code",
   "execution_count": 1,
   "id": "c4303eb4",
   "metadata": {},
   "outputs": [],
   "source": [
    "import os\n",
    "# oneDNN warning suppression TF 2.4.1\n",
    "os.environ['TF_ENABLE_ONEDNN_OPTS'] = '0'\n",
    "\n",
    "import copy\n",
    "\n",
    "import numpy as np\n",
    "import pandas as pd\n",
    "import pickle\n",
    "import statistics\n",
    "\n",
    "from scipy.stats import energy_distance, wasserstein_distance\n",
    "from sklearn.preprocessing import MinMaxScaler, StandardScaler\n",
    "from math import radians\n",
    "from sklearn.metrics.pairwise import haversine_distances\n",
    "from fastdtw import fastdtw\n",
    "\n",
    "from utils.data import *\n",
    "from utils.plots import *\n",
    "from utils.metrics import *\n",
    "from models import *\n",
    "from apu_trajgen import *\n",
    "\n",
    "import warnings\n",
    "warnings.filterwarnings('ignore', category=UserWarning)\n",
    "warnings.filterwarnings('ignore', category=RuntimeWarning)"
   ]
  },
  {
   "cell_type": "markdown",
   "id": "bf3861d1",
   "metadata": {},
   "source": [
    "##### **Parameters**"
   ]
  },
  {
   "cell_type": "code",
   "execution_count": 11,
   "id": "9308f34a",
   "metadata": {},
   "outputs": [],
   "source": [
    "selected_dataset = \"PORTO\"\n",
    "\n",
    "mean_min = [80, 170, 250, 350] # privacy contraint\n",
    "mean_max = [155, 350, 450, 550] # utility contraint\n",
    "\n",
    "# selected_dataset = \"SANFRANCISCO\"\n",
    "# mean_min = [170, 250, 350] # privacy contraint\n",
    "# mean_max = [350, 450, 550] # utility contraint\n",
    "\n",
    "# Set the number of trajectories to process\n",
    "n_trajs = 10 # 5000"
   ]
  },
  {
   "cell_type": "markdown",
   "id": "8880fc46",
   "metadata": {},
   "source": [
    "### **Compute the reconstruction error (adaptive k)**"
   ]
  },
  {
   "cell_type": "code",
   "execution_count": 10,
   "id": "559490bc",
   "metadata": {},
   "outputs": [
    {
     "name": "stdout",
     "output_type": "stream",
     "text": [
      "Processing trajectories with mean_min = 170 and mean_max = 350\n",
      "Method: APU-TrajGen2 - adaptive k \n",
      "Targeted mean: \n",
      "Mean min: 170 / Mean max: 350\n",
      "Mean reconstruction error:\n",
      "289.5336902369211\n",
      "Processing trajectories with mean_min = 250 and mean_max = 450\n",
      "Method: APU-TrajGen2 - adaptive k \n",
      "Targeted mean: \n",
      "Mean min: 250 / Mean max: 450\n",
      "Mean reconstruction error:\n",
      "357.73140714579824\n",
      "Processing trajectories with mean_min = 350 and mean_max = 550\n",
      "Method: APU-TrajGen2 - adaptive k \n",
      "Targeted mean: \n",
      "Mean min: 350 / Mean max: 550\n",
      "Mean reconstruction error:\n",
      "677.2297082646662\n"
     ]
    }
   ],
   "source": [
    "\n",
    "for mmin, mmax in zip(mean_min, mean_max):\n",
    "        \n",
    "    print(\"Processing trajectories with mean_min = \" + str(mmin) + \" and mean_max = \" + str(mmax))\n",
    "    \n",
    "    normalization_ranges = load_pickle(DATA_FOLDER + selected_dataset.lower() + \"_normalization_ranges_test.pkl\") # the scaler used to normalize the data\n",
    "    normalization_ranges = {\"min\": normalization_ranges[\"min\"][0:2], \"max\": normalization_ranges[\"max\"][0:2]}\n",
    "    \n",
    "    Y_test = load_pickle(DATA_FOLDER + selected_dataset.lower() + \"_Y_test_adaptive_k\" + \"_ntrajs_\" + str(n_trajs) + \".pkl\")\n",
    "    \n",
    "    Y_pred_k = load_pickle(DATA_FOLDER + selected_dataset.lower() + \"_Y_pred_adaptive_k_mean_min\" + str(mmin) \n",
    "            + \"_mean_max\" + str(mmax) + \"_ntrajs_\" + str(n_trajs) + \".pkl\")\n",
    "    Y_reconstructed_k = load_pickle(DATA_FOLDER + selected_dataset.lower() + \"_Y_reconstructed_adaptive_k_mean_min\" + str(mmin) \n",
    "            + \"_mean_max\" + str(mmax) + \"_ntrajs_\" + str(n_trajs) + \".pkl\")\n",
    "    \n",
    "    Y_reconstructed_k = Y_reconstructed_k[0]\n",
    "    \n",
    "    # Denormalize the data using the scaler or normalization ranges\n",
    "    Y_test_dn = denormalize_data(dataset = Y_test, normalization_ranges = normalization_ranges)\n",
    "    Y_pred_k_dn = denormalize_data(dataset = Y_pred_k, normalization_ranges = normalization_ranges)\n",
    "    Y_reconstructed_k_dn = denormalize_data(dataset = Y_reconstructed_k, normalization_ranges = normalization_ranges)\n",
    "    \n",
    "    haversine_dists = []\n",
    "    \n",
    "    for traj_idx in range(n_trajs):\n",
    "        \n",
    "        # print(\"Trajectory: \" + str(traj_idx))\n",
    "        # Trajectory-level metrics\n",
    "        # Haversine point-to-point distance\n",
    "        haversine = compute_point_to_point_haversine_distances(Y_test_dn[traj_idx][:-1], Y_reconstructed_k_dn[traj_idx])\n",
    "        \n",
    "        haversine_dists.append(np.mean(haversine))\n",
    "        \n",
    "    print(\"Method: APU-TrajGen2 - adaptive k \")\n",
    "    print(\"Targeted mean: \")\n",
    "    print(\"Mean min: \" + str(mmin) + \" / Mean max: \" + str(mmax))\n",
    "    print(\"Mean reconstruction error:\")\n",
    "    print(np.mean(haversine_dists))"
   ]
  }
 ],
 "metadata": {
  "kernelspec": {
   "display_name": ".venv (3.11.5)",
   "language": "python",
   "name": "python3"
  },
  "language_info": {
   "codemirror_mode": {
    "name": "ipython",
    "version": 3
   },
   "file_extension": ".py",
   "mimetype": "text/x-python",
   "name": "python",
   "nbconvert_exporter": "python",
   "pygments_lexer": "ipython3",
   "version": "3.11.5"
  }
 },
 "nbformat": 4,
 "nbformat_minor": 5
}
