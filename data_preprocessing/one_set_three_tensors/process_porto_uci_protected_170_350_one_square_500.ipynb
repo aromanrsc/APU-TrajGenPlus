{
 "cells": [
  {
   "cell_type": "code",
   "execution_count": null,
   "id": "c9dbeb63",
   "metadata": {},
   "outputs": [],
   "source": [
    "import pickle\n",
    "import copy\n",
    "import matplotlib.pyplot as plt\n",
    "import numpy as np\n",
    "import pandas as pd\n",
    "from math import cos, radians, sqrt\n",
    "\n",
    "from concurrent.futures import ThreadPoolExecutor, as_completed"
   ]
  },
  {
   "cell_type": "code",
   "execution_count": 2,
   "id": "79e367f6",
   "metadata": {},
   "outputs": [],
   "source": [
    "K_MEAN_MIN_170 = 170\n",
    "K_MEAN_MAX_350 = 350\n",
    "\n",
    "DATA_SQUARE_PORTO = {\n",
    "                \"max_lat\": 41.23969,\n",
    "                \"min_lon\": -8.73005,\n",
    "                \"min_lat\": 41.05951,\n",
    "                \"max_lon\": -8.49195\n",
    "                }\n",
    "\n",
    "L_MIN_500 = 500\n",
    "L_MIN_700 = 700\n",
    "L_MIN_1000 = 1000\n",
    "\n",
    "START_TIME = \"00:00:00\"\n",
    "END_TIME = \"23:00:00\"\n",
    "MINUTE_INTERVAL = 10\n",
    "\n",
    "DATA_CENTER_PORTO = {\n",
    "    \"lat\": 41.14961, # Latitude of Porto\n",
    "    \"lon\": -8.61099 # Longitude of Porto\n",
    "}\n",
    "POI_LAT = DATA_CENTER_PORTO[\"lat\"]\n",
    "POI_LON = DATA_CENTER_PORTO[\"lon\"]\n",
    "\n",
    "working_days = [\"monday\", \"tuesday\", \"wednesday\", \"thursday\", \"friday\", \"saturday\", \"sunday\"]\n"
   ]
  },
  {
   "cell_type": "code",
   "execution_count": 3,
   "id": "2fa1a0ea",
   "metadata": {},
   "outputs": [],
   "source": [
    "FILE_PROTECTED = \"../../datasets/PaperResults/porto_all_Y_pred_adaptive_k_mean_min170_mean_max350_ntrajs_195000.pkl\"\n",
    "DENORMALIZER_RANGES_FILE = \"../../datasets/PaperResults/porto_all_normalization_ranges_ntrajs_195000.pkl\"\n",
    "\n",
    "PORTO_ORIGINAL_SQUARE_PATH = \"../../datasets/Porto/protected/porto_uci_filtered.pkl\"\n",
    "\n",
    "\n",
    "TRAFFIC_MAP_ORIGINAL_PATH_500 =  \"../../datasets/PaperResults/traffic_maps/one_set_three_tensors/porto_traffic_map_500_one_square.pkl\"\n",
    "PROTECTED_TRAFFIC_MAP_PATH_500 =  \"../../datasets/PaperResults/traffic_maps/one_set_three_tensors/porto_protected_traffic_map_500_one_square.pkl\"\n",
    "\n",
    "TRAFFIC_MAP_ORIGINAL_PATH_700 =  \"../../datasets/PaperResults/traffic_maps/one_set_three_tensors/porto_traffic_map_700.pkl\"\n",
    "PROTECTED_TRAFFIC_MAP_PATH_700 =  \"../../datasets/PaperResults/traffic_maps/one_set_three_tensors/porto_protected_traffic_map_700_one_square.pkl\"\n",
    "\n",
    "TRAFFIC_MAP_ORIGINAL_PATH_1000 =  \"../../datasets/PaperResults/traffic_maps/one_set_three_tensors/porto_traffic_map_1000_one_square.pkl\"\n",
    "PROTECTED_TRAFFIC_MAP_PATH_1000 =  \"../../datasets/PaperResults/traffic_maps/one_set_three_tensors/porto_protected_traffic_map_1000_one_square.pkl\""
   ]
  },
  {
   "cell_type": "code",
   "execution_count": 4,
   "id": "b199d9d8",
   "metadata": {},
   "outputs": [],
   "source": [
    "def load_object(file_path, encoding=None):\n",
    "    \"\"\"\n",
    "    To be used after calling save_object().\n",
    "    Loads a python object that was pickled with save_object()\n",
    "\n",
    "    :param str file_path: Path to the pickled\n",
    "    :param str encoding: None or type of file encoding\n",
    "    :return: None if load fails, else the pickled object\n",
    "    :rtype: None if fails or type of objected pickled with save_object() \n",
    "    \"\"\"\n",
    "    \n",
    "    if file_path is not None:\n",
    "\n",
    "        with open(file_path, 'rb') as file:\n",
    "\n",
    "            if encoding is not None:\n",
    "                return pickle.load(file, encoding='latin1')\n",
    "            else:\n",
    "                return pickle.load(file)\n",
    "\n",
    "    return None"
   ]
  },
  {
   "cell_type": "code",
   "execution_count": 5,
   "id": "c142528c",
   "metadata": {},
   "outputs": [],
   "source": [
    "def save_object(obj, file_path):\n",
    "    \"\"\"\n",
    "    Save python object obj in the given file_path with pickle.\n",
    "\n",
    "    :param object obj: Python object to be saved\n",
    "    :param str file_path: Path where to save obj\n",
    "    :return: If the save was successful\n",
    "    :rtype: bool\n",
    "    \"\"\"\n",
    "\n",
    "    if obj is not None and file_path is not None:\n",
    "\n",
    "        with open(file_path, 'wb') as file:\n",
    "            pickle.dump(obj, file)\n",
    "\n",
    "        return True\n",
    "        \n",
    "    return False"
   ]
  },
  {
   "cell_type": "code",
   "execution_count": 6,
   "id": "1187b49d",
   "metadata": {},
   "outputs": [],
   "source": [
    "def denormalize_data(dataset, scaler = None, normalization_ranges = None):\n",
    "    \"\"\"\n",
    "        Function to denormalize the dataset using the scaler used to normalize the dataset.\n",
    "        Manual denormalization can be used for separate testing data denormalization or for denormalization of the whole dataset.\n",
    "    \"\"\"\n",
    "    dataset_cpy = copy.deepcopy(dataset)\n",
    "    \n",
    "    if scaler is None and normalization_ranges is not None:\n",
    "        X_min = normalization_ranges[\"min\"][:2]\n",
    "        X_max = normalization_ranges[\"max\"][:2]\n",
    "        \n",
    "        dataset_cpy = [arr * (X_max - X_min) + X_min for arr in dataset]\n",
    "            \n",
    "    if scaler is not None:\n",
    "        for item in range(len(dataset)):\n",
    "            dataset_cpy[item] = scaler.inverse_transform(dataset_cpy[item])\n",
    "       \n",
    "    return dataset_cpy"
   ]
  },
  {
   "cell_type": "code",
   "execution_count": 7,
   "id": "7a0fa895",
   "metadata": {},
   "outputs": [],
   "source": [
    "def get_data_in_square(data, square):\n",
    "    \"\"\" Get data inside the square defined by the square dictionary \"\"\" \n",
    "    \n",
    "    # Ensure correct bounds regardless of coordinate sign or order\n",
    "    lat_min = min(square[\"max_lat\"], square[\"min_lat\"])\n",
    "    lat_max = max(square[\"max_lat\"], square[\"min_lat\"])\n",
    "    lon_min = min(square[\"min_lon\"], square[\"max_lon\"])\n",
    "    lon_max = max(square[\"min_lon\"], square[\"max_lon\"])\n",
    "\n",
    "    filtered_data = []\n",
    "    \n",
    "    for traj in data:\n",
    "        in_lat_bounds = traj[\"lat\"].between(lat_min, lat_max)\n",
    "        in_lon_bounds = traj[\"lon\"].between(lon_min, lon_max)\n",
    "\n",
    "        if (in_lat_bounds & in_lon_bounds).all():\n",
    "            filtered_data.append(traj)\n",
    "            \n",
    "            \n",
    "    return filtered_data"
   ]
  },
  {
   "cell_type": "code",
   "execution_count": 8,
   "id": "2679beb5",
   "metadata": {},
   "outputs": [],
   "source": [
    "def np_to_df(original_trajectories, protected_trajectories):\n",
    "    columns = original_trajectories[0].columns\n",
    "    protected_trajectories_dfs = []\n",
    "\n",
    "    index = 0\n",
    "    for traj in original_trajectories:\n",
    "        df = pd.DataFrame(columns=columns)\n",
    "        traj = traj.copy()\n",
    "        df[\"lat\"] = protected_trajectories[index][:, 0]\n",
    "        df[\"lon\"] = protected_trajectories[index][:, 1]\n",
    "        df[\"timestamp\"] = traj[\"timestamp\"]\n",
    "        df[\"time_diff\"] = traj[\"time_diff\"]\n",
    "        df[\"distance_km\"] = traj[\"distance_km\"]\n",
    "        df[\"speed_km\"] = traj[\"speed_km\"]\n",
    "        df[\"date\"] = traj[\"date\"]\n",
    "        df[\"time\"] = traj[\"time\"]\n",
    "        index += 1\n",
    "        protected_trajectories_dfs.append(df)\n",
    "    return protected_trajectories_dfs"
   ]
  },
  {
   "cell_type": "code",
   "execution_count": 9,
   "id": "d1f62984",
   "metadata": {},
   "outputs": [],
   "source": [
    "def split_by_area(data_square, target_area_m2):\n",
    "    \"\"\"\n",
    "    Given a square of coordinates data_square, with a target area size in square meters, calculates smaller squares inside data_square.\n",
    "    Retruns a list of squares inside data_square.\n",
    "    \"\"\"\n",
    "    \n",
    "    def meters_to_degrees(lat, target_area_m2):\n",
    "        \"\"\"\n",
    "        Computes the coordinates for a target area in square meters.\n",
    "            - 1° of latitude is approximately 111,000 meters\n",
    "            - 1° of longitude is approximately 111,320 meters at equator times cos(lat)\n",
    "        \"\"\"\n",
    "        side_m = sqrt(target_area_m2)\n",
    "        deg_lat = side_m / 111_000\n",
    "        deg_lon = side_m / (111_320 * cos(radians(lat)))\n",
    "        return deg_lat, deg_lon\n",
    "\n",
    "    lat_max = data_square[\"max_lat\"]\n",
    "    lat_min = data_square[\"min_lat\"]\n",
    "    lon_min = data_square[\"min_lon\"]\n",
    "    lon_max = data_square[\"max_lon\"]\n",
    "\n",
    "    center_lat = (lat_max + lat_min) / 2\n",
    "    delta_lat, delta_lon = meters_to_degrees(center_lat, target_area_m2)\n",
    "\n",
    "    lat = lat_min\n",
    "    squares = []\n",
    "\n",
    "    while lat < lat_max:\n",
    "        next_lat = min(lat + delta_lat, lat_max)\n",
    "        lon = lon_min\n",
    "        while lon < lon_max:\n",
    "            next_lon = min(lon + delta_lon, lon_max)\n",
    "            squares.append({\n",
    "                \"min_lat\": lat,\n",
    "                \"max_lat\": next_lat,\n",
    "                \"min_lon\": lon,\n",
    "                \"max_lon\": next_lon\n",
    "            })\n",
    "            lon = next_lon\n",
    "        lat = next_lat\n",
    "\n",
    "    return squares"
   ]
  },
  {
   "cell_type": "code",
   "execution_count": 10,
   "id": "e4e1b1eb",
   "metadata": {},
   "outputs": [],
   "source": [
    "def get_points_in_time_range(trajectories, start_time, end_time):\n",
    "    start_dt = pd.to_datetime(start_time)\n",
    "    end_dt = pd.to_datetime(end_time)\n",
    "\n",
    "    filtered_trajectories = []\n",
    "    for trajectory in trajectories:\n",
    "        if 'datetime' not in trajectory.columns:\n",
    "            trajectory = trajectory.copy()\n",
    "            trajectory['datetime'] = pd.to_datetime(\n",
    "                trajectory['date'].astype(str) + ' ' + trajectory['time'].astype(str),\n",
    "                format='%Y-%m-%d %H:%M:%S',\n",
    "                errors='coerce'\n",
    "            )\n",
    "\n",
    "        mask = (trajectory['datetime'] >= start_dt) & (trajectory['datetime'] <= end_dt)\n",
    "        if mask.any():\n",
    "            filtered_trajectories.append(trajectory.loc[mask])\n",
    "\n",
    "    return filtered_trajectories\n",
    "\n",
    "def _process_trajectory_by_date(args):\n",
    "    day, trajectories, start_time, end_time = args\n",
    "    start_dt = f\"{day} {start_time}\"\n",
    "    end_dt = f\"{day} {end_time}\"\n",
    "    filtered = get_points_in_time_range(trajectories, start_dt, end_dt)\n",
    "    print(f\"Date {day} - Number of trajectories: {len(filtered)}\")\n",
    "    return {'date': day, 'trajectories': filtered}\n",
    "\n",
    "def get_trajectories_by_date(trajectories, dates, start_time, end_time):\n",
    "    tasks = [(day, trajectories, start_time, end_time) for day in dates]\n",
    "\n",
    "    results = []\n",
    "    with ThreadPoolExecutor() as executor:\n",
    "        futures = {executor.submit(_process_trajectory_by_date, task): task[0] for task in tasks}\n",
    "        for future in as_completed(futures):\n",
    "            result = future.result()\n",
    "            results.append(result)\n",
    "\n",
    "    return pd.DataFrame(results)\n",
    "\n"
   ]
  },
  {
   "cell_type": "code",
   "execution_count": 11,
   "id": "17577455",
   "metadata": {},
   "outputs": [],
   "source": [
    "def get_dates(trajectories):\n",
    "    \"\"\"\n",
    "    Returns a list of unique dates from a list of trajectories.\n",
    "    \n",
    "    Each trajectory is a DataFrame with a 'date' column.\n",
    "    \"\"\"\n",
    "    all_dates = pd.concat([df[\"date\"] for df in trajectories], ignore_index=True)\n",
    "    unique_dates = all_dates.unique()\n",
    "\n",
    "    return pd.Series(unique_dates)"
   ]
  },
  {
   "cell_type": "code",
   "execution_count": 12,
   "id": "2b29713b",
   "metadata": {},
   "outputs": [],
   "source": [
    "def split_by_weekday(df):\n",
    "    weekdays = [\"monday\", \"tuesday\", \"wednesday\", \"thursday\", \"friday\", \"saturday\", \"sunday\"]\n",
    "    return {day: df[df['date'].dt.weekday == i] for i, day in enumerate(weekdays)}"
   ]
  },
  {
   "cell_type": "code",
   "execution_count": 13,
   "id": "524fb69c",
   "metadata": {},
   "outputs": [],
   "source": [
    "def get_grid_for_point(lat, lon, grid_squares):\n",
    "    for idx, square in enumerate(grid_squares):\n",
    "        if (square['min_lat'] <= lat <= square['max_lat'] and\n",
    "            square['min_lon'] <= lon <= square['max_lon']):\n",
    "            return idx\n",
    "    return None\n",
    "\n",
    "def plot_traffic_one_day_for_poi(lat, lon, grid_squares, daily_dict, protected_dict, day, lmin=\"300\"):\n",
    "    grid_idx = get_grid_for_point(lat, lon, grid_squares)\n",
    "    if grid_idx is None:\n",
    "        print(\"Location is not within any grid square.\")\n",
    "        return\n",
    "\n",
    "    plt.figure(figsize=(14, 7))\n",
    "\n",
    "    # Plot original data for the specific day\n",
    "    if day in daily_dict:\n",
    "        traffic_map = daily_dict[day][\"traffic_map\"]\n",
    "        if traffic_map is not None:\n",
    "            aggregated_time_series = np.sum(traffic_map[grid_idx, :, :], axis=1)\n",
    "            time_steps = np.arange(len(aggregated_time_series))\n",
    "            plt.plot(time_steps, aggregated_time_series, marker='o', label=f\"{day} original\")\n",
    "\n",
    "    # Plot protected data for the specific day\n",
    "    if day in protected_dict:\n",
    "        traffic_map = protected_dict[day][\"traffic_map\"]\n",
    "        if traffic_map is not None:\n",
    "            aggregated_time_series = np.sum(traffic_map[grid_idx, :, :], axis=1)\n",
    "            time_steps = np.arange(len(aggregated_time_series))\n",
    "            plt.plot(time_steps, aggregated_time_series, marker='x', label=f\"{day} protected\")\n",
    "\n",
    "    num_steps = len(aggregated_time_series)\n",
    "    time_labels = [f\"{(t * 10) // 60:02}:{(t * 10) % 60:02}\" for t in range(num_steps)]\n",
    "    plt.xticks(ticks=np.arange(0, num_steps, 6), labels=time_labels[::6], rotation=45) \n",
    "\n",
    "    plt.title(f\"Aggregated Traffic for POI at ({lat}, {lon}) on {day} [Grid {grid_idx}] - Lmin: {lmin}\")\n",
    "    plt.xlabel(\"Time Steps (1 point = 10 min)\")\n",
    "    plt.ylabel(\"Trajectory points in grid\")\n",
    "    plt.legend()\n",
    "    plt.grid(True)\n",
    "    plt.tight_layout()"
   ]
  },
  {
   "cell_type": "code",
   "execution_count": 14,
   "id": "e95db3e3",
   "metadata": {},
   "outputs": [],
   "source": [
    "def get_time_intervals(START_TIME, END_TIME, minute_bins):\n",
    "    start = pd.to_datetime(START_TIME)\n",
    "    end = pd.to_datetime(END_TIME)\n",
    "    \n",
    "    intervals = pd.date_range(start=start, end=end, freq=f'{minute_bins}min', inclusive='left')\n",
    "    time_intervals = [t.time() for t in intervals]\n",
    "    time_intervals = np.array(time_intervals)\n",
    "    return time_intervals\n",
    "\n",
    "def get_grid_cell(lat, lon, grid_squares):\n",
    "    for idx, square in enumerate(grid_squares):\n",
    "        if (square[\"min_lat\"] <= lat < square[\"max_lat\"] and\n",
    "            square[\"min_lon\"] <= lon < square[\"max_lon\"]):\n",
    "            return idx\n",
    "    return None\n",
    "\n",
    "def get_traffic_map(time_bins, grid_squares, daily_df, START_TIME=START_TIME, END_TIME=END_TIME):\n",
    "    \n",
    "    intervals = get_time_intervals(START_TIME, END_TIME, minute_bins=time_bins)\n",
    "    y_intervals = len(intervals)\n",
    "    x_bin = len(grid_squares)\n",
    "\n",
    "    unique_dates = sorted(daily_df[\"date\"].unique())\n",
    "    z_days = len(unique_dates)\n",
    "\n",
    "    # Index mapping\n",
    "    date_to_z = {d: i for i, d in enumerate(unique_dates)}\n",
    "    interval_to_y = {interval: i for i, interval in enumerate(intervals)}\n",
    "\n",
    "    # Initialize traffic map\n",
    "    traffic_map = np.zeros((x_bin, y_intervals, z_days), dtype=int)\n",
    "\n",
    "\n",
    "    for _, row in daily_df.iterrows():\n",
    "        date = row['date']\n",
    "        if date not in date_to_z:\n",
    "            continue\n",
    "        z_idx = date_to_z[date]\n",
    "\n",
    "        traj_list = row['trajectories']\n",
    "\n",
    "        for df in traj_list:\n",
    "            df = df.copy()\n",
    "            df['time_bin'] = df['datetime'].dt.floor(f'{time_bins}min').dt.time\n",
    "\n",
    "            for _, pt in df.iterrows():\n",
    "                grid_idx = get_grid_cell(pt.lat, pt.lon, grid_squares)\n",
    "                time_bin = pt['time_bin']\n",
    "                if grid_idx is not None and time_bin in interval_to_y:\n",
    "                    y_idx = interval_to_y[time_bin]\n",
    "                    traffic_map[grid_idx, y_idx, z_idx] += 1\n",
    "    \n",
    "    return traffic_map, unique_dates, intervals"
   ]
  },
  {
   "cell_type": "code",
   "execution_count": 15,
   "id": "2fb24713",
   "metadata": {},
   "outputs": [],
   "source": [
    "def get_traffic_map_data(dataset_df, grid_squares):\n",
    "    porto_traffic_maps = {}\n",
    "\n",
    "    for day, df in dataset_df.items():\n",
    "        traffic_map_porto, unique_dates_porto, intervals_porto = get_traffic_map(\n",
    "            MINUTE_INTERVAL, grid_squares, df,\n",
    "            START_TIME=START_TIME, END_TIME=END_TIME\n",
    "        )\n",
    "        porto_traffic_maps[day] = {\n",
    "            \"traffic_map\": traffic_map_porto,\n",
    "            \"unique_dates\": unique_dates_porto,\n",
    "            \"intervals\": intervals_porto\n",
    "        }\n",
    "    return porto_traffic_maps"
   ]
  },
  {
   "cell_type": "code",
   "execution_count": 16,
   "id": "018ee8e9",
   "metadata": {},
   "outputs": [],
   "source": [
    "def create_square_bbox(center_lat, center_lon, size_km):\n",
    "    \"\"\"\n",
    "    Create a square bounding box around a central point.\n",
    "\n",
    "    Args:\n",
    "        center_lat (float): Latitude of the center point.\n",
    "        center_lon (float): Longitude of the center point.\n",
    "        size_km (float): Length of one side of the square in kilometers.\n",
    "\n",
    "    Returns:\n",
    "        Dict containing (min_lat, min_lon, max_lat, max_lon).\n",
    "    \"\"\"\n",
    "    data_square = {}\n",
    "    # Approximate conversion: 1 degree latitude ~ 111 km\n",
    "    delta_lat = (size_km / 2) / 111.0\n",
    "\n",
    "    # Approximate conversion: 1 degree longitude ~ 111 km * cos(latitude in radians)\n",
    "    from math import cos, radians\n",
    "    delta_lon = (size_km / 2) / (111.0 * cos(radians(center_lat)))\n",
    "\n",
    "    data_square[\"min_lat\"] = center_lat - delta_lat\n",
    "    data_square[\"max_lat\"] = center_lat + delta_lat\n",
    "    data_square[\"min_lon\"] = center_lon - delta_lon\n",
    "    data_square[\"max_lon\"] = center_lon + delta_lon\n",
    "\n",
    "\n",
    "    return data_square\n"
   ]
  },
  {
   "cell_type": "code",
   "execution_count": 17,
   "id": "293172fb",
   "metadata": {},
   "outputs": [],
   "source": [
    "normalization_ranges=load_object(DENORMALIZER_RANGES_FILE)"
   ]
  },
  {
   "cell_type": "code",
   "execution_count": 18,
   "id": "6c87b239",
   "metadata": {},
   "outputs": [
    {
     "name": "stdout",
     "output_type": "stream",
     "text": [
      "195000\n"
     ]
    }
   ],
   "source": [
    "trajectories_protected = load_object(FILE_PROTECTED)\n",
    "len_protected = len(trajectories_protected)\n",
    "print(len_protected)"
   ]
  },
  {
   "cell_type": "code",
   "execution_count": 19,
   "id": "1179478e",
   "metadata": {},
   "outputs": [],
   "source": [
    "trajectories_protected = denormalize_data(trajectories_protected, normalization_ranges=normalization_ranges)"
   ]
  },
  {
   "cell_type": "code",
   "execution_count": 20,
   "id": "434dd8f2",
   "metadata": {},
   "outputs": [],
   "source": [
    "# Original\n",
    "trajectories_porto = load_object(PORTO_ORIGINAL_SQUARE_PATH)\n",
    "trajectories_porto = get_data_in_square(data = trajectories_porto, square=DATA_SQUARE_PORTO)\n",
    "trajectories_porto_subset = trajectories_porto[:len_protected]\n"
   ]
  },
  {
   "cell_type": "code",
   "execution_count": 21,
   "id": "f4765ef4",
   "metadata": {},
   "outputs": [
    {
     "data": {
      "text/plain": [
       "195000"
      ]
     },
     "execution_count": 21,
     "metadata": {},
     "output_type": "execute_result"
    }
   ],
   "source": [
    "len(trajectories_porto_subset)"
   ]
  },
  {
   "cell_type": "code",
   "execution_count": 22,
   "id": "397cce35",
   "metadata": {},
   "outputs": [
    {
     "data": {
      "text/plain": [
       "[<matplotlib.lines.Line2D at 0x7fe641a461d0>]"
      ]
     },
     "execution_count": 22,
     "metadata": {},
     "output_type": "execute_result"
    },
    {
     "data": {
      "image/png": "[encoded data removed]",
      "text/plain": [
       "<Figure size 640x480 with 1 Axes>"
      ]
     },
     "metadata": {},
     "output_type": "display_data"
    }
   ],
   "source": [
    "index = 80000\n",
    "plt.plot()\n",
    "plt.plot(trajectories_porto_subset[index].lat, trajectories_porto_subset[index].lon)\n",
    "plt.plot(trajectories_protected[index][:,0], trajectories_protected[index][:,1])"
   ]
  },
  {
   "cell_type": "code",
   "execution_count": 23,
   "id": "a56092c7",
   "metadata": {},
   "outputs": [],
   "source": [
    "# remove the first row from each original trajectory\n",
    "trajectories_porto_subset = [df.iloc[1:].reset_index(drop=True) for df in trajectories_porto_subset]"
   ]
  },
  {
   "cell_type": "code",
   "execution_count": 24,
   "id": "b04e8785",
   "metadata": {},
   "outputs": [],
   "source": [
    "protected_denorm_df = np_to_df(trajectories_porto_subset, trajectories_protected)"
   ]
  },
  {
   "cell_type": "code",
   "execution_count": 25,
   "id": "11a7aaff",
   "metadata": {},
   "outputs": [],
   "source": [
    "bbox_500 = create_square_bbox(POI_LAT, POI_LON, (L_MIN_500/2)/1000)\n",
    "# bbox_700 = create_square_bbox(POI_LAT, POI_LON, (L_MIN_700/2)/1000)\n",
    "# bbox_1000 = create_square_bbox(POI_LAT, POI_LON, (L_MIN_1000/2)/1000)"
   ]
  },
  {
   "cell_type": "code",
   "execution_count": 26,
   "id": "3bfa6be4",
   "metadata": {},
   "outputs": [],
   "source": [
    "def get_points_in_square(data, square):\n",
    "    \"\"\" Get data inside the square defined by the square dictionary. \n",
    "        This version retrieves data if at least one point in the trajectory \n",
    "        is inside the square's boundaries.\n",
    "    \"\"\"\n",
    "    \n",
    "    # Ensure correct bounds regardless of coordinate sign or order\n",
    "    lat_min = min(square[\"max_lat\"], square[\"min_lat\"])\n",
    "    lat_max = max(square[\"max_lat\"], square[\"min_lat\"])\n",
    "    lon_min = min(square[\"min_lon\"], square[\"max_lon\"])\n",
    "    lon_max = max(square[\"min_lon\"], square[\"max_lon\"])\n",
    "\n",
    "    filtered_data = []\n",
    "    \n",
    "    for traj in data:\n",
    "        # Check if any point in the trajectory lies within the bounds\n",
    "        in_lat_bounds = traj[\"lat\"].between(lat_min, lat_max)\n",
    "        in_lon_bounds = traj[\"lon\"].between(lon_min, lon_max)\n",
    "\n",
    "        # If at least one point is in bounds, include this trajectory\n",
    "        if (in_lat_bounds | in_lon_bounds).any():\n",
    "            filtered_data.append(traj)\n",
    "            \n",
    "    return filtered_data\n"
   ]
  },
  {
   "cell_type": "code",
   "execution_count": null,
   "id": "1ac1ab6a",
   "metadata": {},
   "outputs": [],
   "source": [
    "trajectories_porto_500 = get_points_in_square(data=trajectories_porto_subset, square=bbox_500)"
   ]
  },
  {
   "cell_type": "code",
   "execution_count": null,
   "id": "37bbc8e5",
   "metadata": {},
   "outputs": [],
   "source": [
    "protected_porto_500 = get_points_in_square(data=protected_denorm_df, square=bbox_500)"
   ]
  },
  {
   "cell_type": "code",
   "execution_count": 29,
   "id": "ca1d033f",
   "metadata": {},
   "outputs": [],
   "source": [
    "porto_dates = get_dates(trajectories_porto_subset).drop_duplicates()"
   ]
  },
  {
   "cell_type": "code",
   "execution_count": 30,
   "id": "f872d898",
   "metadata": {},
   "outputs": [
    {
     "name": "stdout",
     "output_type": "stream",
     "text": [
      "Date 2013-07-11 - Number of trajectories: 3145\n",
      "Date 2013-07-10 - Number of trajectories: 2923\n",
      "Date 2013-07-13 - Number of trajectories: 3000\n",
      "Date 2013-07-16 - Number of trajectories: 2746\n",
      "Date 2013-07-09 - Number of trajectories: 2797\n",
      "Date 2013-07-08 - Number of trajectories: 2805\n",
      "Date 2013-07-12 - Number of trajectories: 3247\n",
      "Date 2013-07-14 - Number of trajectories: 2455\n",
      "Date 2013-07-15 - Number of trajectories: 2744\n",
      "Date 2013-07-07 - Number of trajectories: 2768\n",
      "Date 2013-07-03 - Number of trajectories: 2838\n",
      "Date 2013-07-06 - Number of trajectories: 3253\n",
      "Date 2013-07-02 - Number of trajectories: 2801\n",
      "Date 2013-07-04 - Number of trajectories: 3184\n",
      "Date 2013-07-01 - Number of trajectories: 2876\n",
      "Date 2013-07-05 - Number of trajectories: 3438\n",
      "Date 2013-07-17 - Number of trajectories: 2711\n",
      "Date 2013-07-18 - Number of trajectories: 3125\n",
      "Date 2013-07-21 - Number of trajectories: 2650\n",
      "Date 2013-07-19 - Number of trajectories: 3286\n",
      "Date 2013-07-20 - Number of trajectories: 3253\n",
      "Date 2013-07-23 - Number of trajectories: 2776\n",
      "Date 2013-07-22 - Number of trajectories: 2642\n",
      "Date 2013-07-25 - Number of trajectories: 2897\n",
      "Date 2013-07-24 - Number of trajectories: 2652\n",
      "Date 2013-07-26 - Number of trajectories: 3091\n",
      "Date 2013-07-27 - Number of trajectories: 2914\n",
      "Date 2013-07-30 - Number of trajectories: 2687\n",
      "Date 2013-07-28 - Number of trajectories: 2544\n",
      "Date 2013-07-29 - Number of trajectories: 2479\n",
      "Date 2013-07-31 - Number of trajectories: 2561\n",
      "Date 2013-08-01 - Number of trajectories: 2645\n",
      "Date 2013-08-02 - Number of trajectories: 2718\n",
      "Date 2013-08-03 - Number of trajectories: 2753\n",
      "Date 2013-08-04 - Number of trajectories: 2386\n",
      "Date 2013-08-05 - Number of trajectories: 2193\n",
      "Date 2013-08-06 - Number of trajectories: 2467\n",
      "Date 2013-08-07 - Number of trajectories: 2455\n",
      "Date 2013-08-08 - Number of trajectories: 2639\n",
      "Date 2013-08-09 - Number of trajectories: 2828\n",
      "Date 2013-08-10 - Number of trajectories: 2749\n",
      "Date 2013-08-11 - Number of trajectories: 2356\n",
      "Date 2013-08-12 - Number of trajectories: 2517\n",
      "Date 2013-08-14 - Number of trajectories: 2637\n",
      "Date 2013-08-13 - Number of trajectories: 2601\n",
      "Date 2013-08-17 - Number of trajectories: 2416\n",
      "Date 2013-08-15 - Number of trajectories: 2364\n",
      "Date 2013-08-16 - Number of trajectories: 2594\n",
      "Date 2013-08-19 - Number of trajectories: 2351\n",
      "Date 2013-08-18 - Number of trajectories: 2205\n",
      "Date 2013-08-20 - Number of trajectories: 2646\n",
      "Date 2013-08-21 - Number of trajectories: 2234\n",
      "Date 2013-08-22 - Number of trajectories: 2404\n",
      "Date 2013-08-23 - Number of trajectories: 2202\n",
      "Date 2013-08-24 - Number of trajectories: 2432\n",
      "Date 2013-08-26 - Number of trajectories: 385\n",
      "Date 2013-08-25 - Number of trajectories: 2245\n"
     ]
    }
   ],
   "source": [
    "trajectories_porto_by_date_500 = get_trajectories_by_date(trajectories_porto_500, porto_dates, START_TIME, END_TIME)"
   ]
  },
  {
   "cell_type": "code",
   "execution_count": 31,
   "id": "9efd4ff9",
   "metadata": {},
   "outputs": [
    {
     "name": "stdout",
     "output_type": "stream",
     "text": [
      "Date 2013-07-08 - Number of trajectories: 2897\n",
      "Date 2013-07-10 - Number of trajectories: 3010\n",
      "Date 2013-07-14 - Number of trajectories: 2468\n",
      "Date 2013-07-06 - Number of trajectories: 3326\n",
      "Date 2013-07-05 - Number of trajectories: 3544\n",
      "Date 2013-07-07 - Number of trajectories: 2819\n",
      "Date 2013-07-13 - Number of trajectories: 3074\n",
      "Date 2013-07-01 - Number of trajectories: 2945\n",
      "Date 2013-07-03 - Number of trajectories: 2918\n",
      "Date 2013-07-11 - Number of trajectories: 3253\n",
      "Date 2013-07-16 - Number of trajectories: 2887\n",
      "Date 2013-07-02 - Number of trajectories: 2867\n",
      "Date 2013-07-04 - Number of trajectories: 3282\n",
      "Date 2013-07-12 - Number of trajectories: 3338\n",
      "Date 2013-07-15 - Number of trajectories: 2812\n",
      "Date 2013-07-09 - Number of trajectories: 2870\n",
      "Date 2013-07-18 - Number of trajectories: 3201\n",
      "Date 2013-07-17 - Number of trajectories: 2790\n",
      "Date 2013-07-20 - Number of trajectories: 3313\n",
      "Date 2013-07-19 - Number of trajectories: 3363\n",
      "Date 2013-07-21 - Number of trajectories: 2678\n",
      "Date 2013-07-22 - Number of trajectories: 2715\n",
      "Date 2013-07-24 - Number of trajectories: 2735\n",
      "Date 2013-07-23 - Number of trajectories: 2841\n",
      "Date 2013-07-25 - Number of trajectories: 2984\n",
      "Date 2013-07-27 - Number of trajectories: 2951\n",
      "Date 2013-07-29 - Number of trajectories: 2541\n",
      "Date 2013-07-26 - Number of trajectories: 3163\n",
      "Date 2013-07-28 - Number of trajectories: 2568\n",
      "Date 2013-07-30 - Number of trajectories: 2761\n",
      "Date 2013-07-31 - Number of trajectories: 2634\n",
      "Date 2013-08-01 - Number of trajectories: 2719\n",
      "Date 2013-08-05 - Number of trajectories: 2235\n",
      "Date 2013-08-03 - Number of trajectories: 2798\n",
      "Date 2013-08-02 - Number of trajectories: 2778\n",
      "Date 2013-08-04 - Number of trajectories: 2423\n",
      "Date 2013-08-07 - Number of trajectories: 2521\n",
      "Date 2013-08-08 - Number of trajectories: 2721\n",
      "Date 2013-08-06 - Number of trajectories: 2534\n",
      "Date 2013-08-09 - Number of trajectories: 2852\n",
      "Date 2013-08-10 - Number of trajectories: 2799\n",
      "Date 2013-08-11 - Number of trajectories: 2407\n",
      "Date 2013-08-13 - Number of trajectories: 2652\n",
      "Date 2013-08-14 - Number of trajectories: 2714\n",
      "Date 2013-08-12 - Number of trajectories: 2600\n",
      "Date 2013-08-15 - Number of trajectories: 2416\n",
      "Date 2013-08-16 - Number of trajectories: 2639\n",
      "Date 2013-08-17 - Number of trajectories: 2458\n",
      "Date 2013-08-19 - Number of trajectories: 2364\n",
      "Date 2013-08-18 - Number of trajectories: 2245\n",
      "Date 2013-08-21 - Number of trajectories: 2257\n",
      "Date 2013-08-20 - Number of trajectories: 2709\n",
      "Date 2013-08-22 - Number of trajectories: 2427\n",
      "Date 2013-08-23 - Number of trajectories: 2286\n",
      "Date 2013-08-25 - Number of trajectories: 2281\n",
      "Date 2013-08-24 - Number of trajectories: 2484\n",
      "Date 2013-08-26 - Number of trajectories: 394\n"
     ]
    }
   ],
   "source": [
    "protected_by_date_500 = get_trajectories_by_date(protected_porto_500, porto_dates, START_TIME, END_TIME)"
   ]
  },
  {
   "cell_type": "code",
   "execution_count": 32,
   "id": "65015f87",
   "metadata": {},
   "outputs": [],
   "source": [
    "# Transform from date string to datetime.date all dates in trajectories_by_dates\n",
    "trajectories_porto_by_date_500[\"date\"] = pd.to_datetime(trajectories_porto_by_date_500[\"date\"])\n",
    "\n",
    "protected_by_date_500[\"date\"] = pd.to_datetime(protected_by_date_500[\"date\"])\n"
   ]
  },
  {
   "cell_type": "code",
   "execution_count": 35,
   "id": "6cce7a50",
   "metadata": {},
   "outputs": [],
   "source": [
    "def get_traffic_map_with_flow(time_bins, grid_squares, daily_df, START_TIME=START_TIME, END_TIME=END_TIME):\n",
    "    \"\"\"\n",
    "    Parallelized computation of:\n",
    "    - point_map: count of trajectory points\n",
    "    - flow_map: unique vehicles per grid/time\n",
    "    - avg_traversal_map: average traversal time (seconds) per vehicle\n",
    "    \"\"\"\n",
    "\n",
    "    # Prepare dimensions\n",
    "    intervals = get_time_intervals(START_TIME, END_TIME, minute_bins=time_bins)\n",
    "    y_intervals = len(intervals)\n",
    "    x_bin = len(grid_squares)\n",
    "    unique_dates = sorted(daily_df[\"date\"].unique())\n",
    "    z_days = len(unique_dates)\n",
    "\n",
    "    date_to_z = {d: i for i, d in enumerate(unique_dates)}\n",
    "    interval_to_y = {interval: i for i, interval in enumerate(intervals)}\n",
    "\n",
    "    # Initialize result tensors\n",
    "    point_map = np.zeros((x_bin, y_intervals, z_days), dtype=int)\n",
    "    flow_map = np.zeros((x_bin, y_intervals, z_days), dtype=int)\n",
    "\n",
    "    def process_day(row):\n",
    "        \"\"\"Process a single day: returns (point_map_day, flow_map_day, z_idx)\"\"\"\n",
    "        date = row['date']\n",
    "        if date not in date_to_z:\n",
    "            return None\n",
    "        z_idx = date_to_z[date]\n",
    "\n",
    "        local_point_map = np.zeros((x_bin, y_intervals), dtype=int)\n",
    "        local_flow_map = np.zeros((x_bin, y_intervals), dtype=int)\n",
    "\n",
    "        traj_list = row['trajectories']\n",
    "\n",
    "        for vehicle_id, df in enumerate(traj_list):\n",
    "            df = df.copy()\n",
    "            df['time_bin'] = df['datetime'].dt.floor(f'{time_bins}min').dt.time\n",
    "\n",
    "            for time_bin, group in df.groupby('time_bin'):\n",
    "                y_idx = interval_to_y.get(time_bin)\n",
    "                if y_idx is None:\n",
    "                    continue\n",
    "\n",
    "                visited_grids = set()\n",
    "\n",
    "                for _, pt in group.iterrows():\n",
    "                    grid_idx = get_grid_cell(pt.lat, pt.lon, grid_squares)\n",
    "                    if grid_idx is not None:\n",
    "                        local_point_map[grid_idx, y_idx] += 1\n",
    "                        visited_grids.add(grid_idx)\n",
    "\n",
    "                for grid_idx in visited_grids:\n",
    "                    local_flow_map[grid_idx, y_idx] += 1\n",
    "\n",
    "        return local_point_map, local_flow_map, z_idx\n",
    "\n",
    "    # Parallel processing\n",
    "    with ThreadPoolExecutor() as executor:\n",
    "        results = executor.map(process_day, [row for _, row in daily_df.iterrows()])\n",
    "\n",
    "    # Merge results into global tensors\n",
    "    for res in results:\n",
    "        if res is None:\n",
    "            continue\n",
    "        local_point_map, local_flow_map, z_idx = res\n",
    "        point_map[:, :, z_idx] += local_point_map\n",
    "        flow_map[:, :, z_idx] += local_flow_map\n",
    "\n",
    "    # Compute average traversal time\n",
    "    avg_traversal_map = np.zeros_like(point_map, dtype=float)\n",
    "    mask = flow_map > 0\n",
    "    avg_traversal_map[mask] = (point_map[mask] * 15) / flow_map[mask]  # 60s per point\n",
    "\n",
    "    return point_map, flow_map, avg_traversal_map, unique_dates, intervals\n"
   ]
  },
  {
   "cell_type": "code",
   "execution_count": 43,
   "id": "27dbe107",
   "metadata": {},
   "outputs": [
    {
     "data": {
      "text/plain": [
       "True"
      ]
     },
     "execution_count": 43,
     "metadata": {},
     "output_type": "execute_result"
    }
   ],
   "source": [
    "save_object(trajectories_porto_by_date_500, \"../../datasets/PaperResults/traffic_maps/one_set_three_tensors/port_trajectories_by_date_500\")\n",
    "save_object(protected_by_date_500, \"../../datasets/PaperResults/traffic_maps/one_set_three_tensors/port_protected_trajectories_by_date_500\")"
   ]
  },
  {
   "cell_type": "code",
   "execution_count": 36,
   "id": "346d442d",
   "metadata": {},
   "outputs": [],
   "source": [
    "point_map_original_500, flow_map_original_500, avg_traversal_original_500, unique_dates_500, intervals_500 = get_traffic_map_with_flow(\n",
    "    MINUTE_INTERVAL, [bbox_500], trajectories_porto_by_date_500,\n",
    "    START_TIME=START_TIME, END_TIME=END_TIME\n",
    ")\n"
   ]
  },
  {
   "cell_type": "code",
   "execution_count": 37,
   "id": "1f5cbd2a",
   "metadata": {},
   "outputs": [],
   "source": [
    "point_map_protected_500, flow_map_protected_500, avg_traversal_protected_500, unique_dates_500, intervals_500 = get_traffic_map_with_flow(\n",
    "    MINUTE_INTERVAL, [bbox_500], protected_by_date_500,\n",
    "    START_TIME=START_TIME, END_TIME=END_TIME\n",
    ")"
   ]
  },
  {
   "cell_type": "code",
   "execution_count": 39,
   "id": "bdac9c74",
   "metadata": {},
   "outputs": [
    {
     "data": {
      "text/plain": [
       "True"
      ]
     },
     "execution_count": 39,
     "metadata": {},
     "output_type": "execute_result"
    }
   ],
   "source": [
    "\n",
    "save_object(point_map_original_500, \n",
    "            \"../../datasets/PaperResults/traffic_maps/one_set_three_tensors/port_traffic_map_500\")\n",
    "save_object(flow_map_original_500, \n",
    "            \"../../datasets/PaperResults/traffic_maps/one_set_three_tensors/port_flow_map_500\")\n",
    "save_object(avg_traversal_original_500, \n",
    "            \"../../datasets/PaperResults/traffic_maps/one_set_three_tensors/port_avgtrav_map_500\")\n",
    "save_object(unique_dates_500, \n",
    "            \"../../datasets/PaperResults/traffic_maps/one_set_three_tensors/port_dates_map_500\")\n",
    "save_object(intervals_500, \n",
    "            \"../../datasets/PaperResults/traffic_maps/one_set_three_tensors/port_intervals_map_500\")\n",
    "\n",
    "\n",
    "save_object(point_map_protected_500, \n",
    "            \"../../datasets/PaperResults/traffic_maps/one_set_three_tensors/port_protected_traffic_map_500\")\n",
    "save_object(flow_map_protected_500, \n",
    "            \"../../datasets/PaperResults/traffic_maps/one_set_three_tensors/port_protected_flow_map_500\")\n",
    "save_object(avg_traversal_protected_500, \n",
    "            \"../../datasets/PaperResults/traffic_maps/one_set_three_tensors/port_protected_avgtrav_map_500\")"
   ]
  },
  {
   "cell_type": "code",
   "execution_count": 40,
   "id": "b3d7c26c",
   "metadata": {},
   "outputs": [],
   "source": [
    "grid_squares = split_by_area(DATA_SQUARE_PORTO, target_area_m2=L_MIN_500*L_MIN_500)"
   ]
  },
  {
   "cell_type": "code",
   "execution_count": 41,
   "id": "79c95859",
   "metadata": {},
   "outputs": [],
   "source": [
    "porto_weekday_dfs = split_by_weekday(trajectories_porto_by_date_500)\n",
    "\n",
    "protected_weekdays_dfs_34000 = split_by_weekday(protected_by_date_500)"
   ]
  },
  {
   "cell_type": "code",
   "execution_count": 42,
   "id": "83bef495",
   "metadata": {},
   "outputs": [
    {
     "ename": "UnboundLocalError",
     "evalue": "local variable 'aggregated_time_series' referenced before assignment",
     "output_type": "error",
     "traceback": [
      "\u001b[0;31m---------------------------------------------------------------------------\u001b[0m",
      "\u001b[0;31mUnboundLocalError\u001b[0m                         Traceback (most recent call last)",
      "Cell \u001b[0;32mIn[42], line 1\u001b[0m\n\u001b[0;32m----> 1\u001b[0m \u001b[43mplot_traffic_one_day_for_poi\u001b[49m\u001b[43m(\u001b[49m\u001b[43mPOI_LAT\u001b[49m\u001b[43m,\u001b[49m\u001b[43m \u001b[49m\u001b[43mPOI_LON\u001b[49m\u001b[43m,\u001b[49m\u001b[43m \u001b[49m\u001b[43m[\u001b[49m\u001b[43mbbox_500\u001b[49m\u001b[43m]\u001b[49m\u001b[43m,\u001b[49m\u001b[43m \u001b[49m\u001b[43mavg_traversal_original_500\u001b[49m\u001b[43m,\u001b[49m\u001b[43m \u001b[49m\u001b[43mavg_traversal_protected_500\u001b[49m\u001b[43m,\u001b[49m\u001b[43m \u001b[49m\u001b[38;5;124;43m\"\u001b[39;49m\u001b[38;5;124;43mmonday\u001b[39;49m\u001b[38;5;124;43m\"\u001b[39;49m\u001b[43m,\u001b[49m\u001b[43m \u001b[49m\u001b[43mlmin\u001b[49m\u001b[38;5;241;43m=\u001b[39;49m\u001b[38;5;124;43m\"\u001b[39;49m\u001b[38;5;124;43m500\u001b[39;49m\u001b[38;5;124;43m\"\u001b[39;49m\u001b[43m)\u001b[49m\n",
      "Cell \u001b[0;32mIn[13], line 32\u001b[0m, in \u001b[0;36mplot_traffic_one_day_for_poi\u001b[0;34m(lat, lon, grid_squares, daily_dict, protected_dict, day, lmin)\u001b[0m\n\u001b[1;32m     29\u001b[0m         time_steps \u001b[38;5;241m=\u001b[39m np\u001b[38;5;241m.\u001b[39marange(\u001b[38;5;28mlen\u001b[39m(aggregated_time_series))\n\u001b[1;32m     30\u001b[0m         plt\u001b[38;5;241m.\u001b[39mplot(time_steps, aggregated_time_series, marker\u001b[38;5;241m=\u001b[39m\u001b[38;5;124m'\u001b[39m\u001b[38;5;124mx\u001b[39m\u001b[38;5;124m'\u001b[39m, label\u001b[38;5;241m=\u001b[39m\u001b[38;5;124mf\u001b[39m\u001b[38;5;124m\"\u001b[39m\u001b[38;5;132;01m{\u001b[39;00mday\u001b[38;5;132;01m}\u001b[39;00m\u001b[38;5;124m protected\u001b[39m\u001b[38;5;124m\"\u001b[39m)\n\u001b[0;32m---> 32\u001b[0m num_steps \u001b[38;5;241m=\u001b[39m \u001b[38;5;28mlen\u001b[39m(\u001b[43maggregated_time_series\u001b[49m)\n\u001b[1;32m     33\u001b[0m time_labels \u001b[38;5;241m=\u001b[39m [\u001b[38;5;124mf\u001b[39m\u001b[38;5;124m\"\u001b[39m\u001b[38;5;132;01m{\u001b[39;00m(t\u001b[38;5;250m \u001b[39m\u001b[38;5;241m*\u001b[39m\u001b[38;5;250m \u001b[39m\u001b[38;5;241m10\u001b[39m)\u001b[38;5;250m \u001b[39m\u001b[38;5;241m/\u001b[39m\u001b[38;5;241m/\u001b[39m\u001b[38;5;250m \u001b[39m\u001b[38;5;241m60\u001b[39m\u001b[38;5;132;01m:\u001b[39;00m\u001b[38;5;124m02\u001b[39m\u001b[38;5;132;01m}\u001b[39;00m\u001b[38;5;124m:\u001b[39m\u001b[38;5;132;01m{\u001b[39;00m(t\u001b[38;5;250m \u001b[39m\u001b[38;5;241m*\u001b[39m\u001b[38;5;250m \u001b[39m\u001b[38;5;241m10\u001b[39m)\u001b[38;5;250m \u001b[39m\u001b[38;5;241m%\u001b[39m\u001b[38;5;250m \u001b[39m\u001b[38;5;241m60\u001b[39m\u001b[38;5;132;01m:\u001b[39;00m\u001b[38;5;124m02\u001b[39m\u001b[38;5;132;01m}\u001b[39;00m\u001b[38;5;124m\"\u001b[39m \u001b[38;5;28;01mfor\u001b[39;00m t \u001b[38;5;129;01min\u001b[39;00m \u001b[38;5;28mrange\u001b[39m(num_steps)]\n\u001b[1;32m     34\u001b[0m plt\u001b[38;5;241m.\u001b[39mxticks(ticks\u001b[38;5;241m=\u001b[39mnp\u001b[38;5;241m.\u001b[39marange(\u001b[38;5;241m0\u001b[39m, num_steps, \u001b[38;5;241m6\u001b[39m), labels\u001b[38;5;241m=\u001b[39mtime_labels[::\u001b[38;5;241m6\u001b[39m], rotation\u001b[38;5;241m=\u001b[39m\u001b[38;5;241m45\u001b[39m) \n",
      "\u001b[0;31mUnboundLocalError\u001b[0m: local variable 'aggregated_time_series' referenced before assignment"
     ]
    },
    {
     "data": {
      "text/plain": [
       "<Figure size 1400x700 with 0 Axes>"
      ]
     },
     "metadata": {},
     "output_type": "display_data"
    }
   ],
   "source": [
    "plot_traffic_one_day_for_poi(POI_LAT, POI_LON, [bbox_500], avg_traversal_original_500, avg_traversal_protected_500, \"monday\", lmin=\"500\")"
   ]
  }
 ],
 "metadata": {
  "kernelspec": {
   "display_name": "Python 3",
   "language": "python",
   "name": "python3"
  },
  "language_info": {
   "codemirror_mode": {
    "name": "ipython",
    "version": 3
   },
   "file_extension": ".py",
   "mimetype": "text/x-python",
   "name": "python",
   "nbconvert_exporter": "python",
   "pygments_lexer": "ipython3",
   "version": "3.10.12"
  }
 },
 "nbformat": 4,
 "nbformat_minor": 5
}
