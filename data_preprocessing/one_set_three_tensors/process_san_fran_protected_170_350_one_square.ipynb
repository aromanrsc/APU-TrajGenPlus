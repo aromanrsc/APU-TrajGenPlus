{
 "cells": [
  {
   "cell_type": "code",
   "execution_count": 1,
   "id": "c9dbeb63",
   "metadata": {},
   "outputs": [],
   "source": [
    "# %matplotlib widget\n",
    "import pickle\n",
    "import ast\n",
    "import copy\n",
    "import os\n",
    "import matplotlib.pyplot as plt\n",
    "import numpy as np\n",
    "import pandas as pd\n",
    "from math import cos, radians, sqrt\n",
    "from datetime import datetime\n",
    "\n",
    "\n",
    "from concurrent.futures import ThreadPoolExecutor, as_completed"
   ]
  },
  {
   "cell_type": "code",
   "execution_count": null,
   "id": "79e367f6",
   "metadata": {},
   "outputs": [],
   "source": [
    "K_MEAN_MIN = 170\n",
    "K_MEAN_MAX = 350\n",
    "\n",
    "# San Francisco square\n",
    "DATA_SQUARE = { \n",
    "                \"max_lat\": 37.86499,\n",
    "                \"min_lon\": -122.53304,\n",
    "                \"min_lat\": 37.68481,\n",
    "                \"max_lon\": -122.30576\n",
    "                }\n",
    "\n",
    "\n",
    "START_TIME = \"00:00:00\"\n",
    "END_TIME = \"23:00:00\"\n",
    "MINUTE_INTERVAL = 10\n",
    "\n",
    "DATA_CENTER = {\n",
    "    \"lat\": 37.7749,  # Latitude of San Francisco\n",
    "    \"lon\": -122.4194  # Longitude of San Francisco\n",
    "}\n",
    "POI_LAT = DATA_CENTER[\"lat\"]\n",
    "POI_LON = DATA_CENTER[\"lon\"]\n",
    "\n",
    "L_MIN_500 = 500\n",
    "L_MIN_700 = 700\n",
    "L_MIN_1000 = 1000\n",
    "\n",
    "L_MIN = K_MEAN_MIN * 2\n",
    "\n",
    "\n",
    "working_days = [\"monday\", \"tuesday\", \"wednesday\", \"thursday\", \"friday\", \"saturday\", \"sunday\"]\n"
   ]
  },
  {
   "cell_type": "code",
   "execution_count": 3,
   "id": "ba298bc6",
   "metadata": {},
   "outputs": [],
   "source": [
    "FILE_PROTECTED = f\"../../datasets/PaperResults/sanfrancisco_all_Y_pred_adaptive_k_mean_min{K_MEAN_MIN}_mean_max{K_MEAN_MAX}_ntrajs_19500.pkl\"\n",
    "\n",
    "DENORMALIZER_RANGES_FILE =  \"../../datasets/PaperResults/sanfrancisco_all_normalization_ranges_ntrajs_19500.pkl\"\n",
    "\n",
    "FILE_ORIGINAL_PATH = \"../../datasets/SanFrancisco/analysis_trajectories_square.pkl\"\n",
    "\n",
    "\n",
    "TRAFFIC_MAP_ORIGINAL_PATH_500 =  \"../../datasets/PaperResults/traffic_maps/one_set_three_tensors/sf_traffic_map_500.pkl\"\n",
    "PROTECTED_TRAFFIC_MAP_PATH_500 =  \"../../datasets/PaperResults/traffic_maps/one_set_three_tensors/sf_protected_traffic_map_500.pkl\"\n",
    "\n",
    "TRAFFIC_MAP_ORIGINAL_PATH_700 =  \"../../datasets/PaperResults/traffic_maps/one_set_three_tensors/sf_traffic_map_700.pkl\"\n",
    "PROTECTED_TRAFFIC_MAP_PATH_700 =  \"../../datasets/PaperResults/traffic_maps/one_set_three_tensors/sf_protected_traffic_map_700.pkl\"\n",
    "\n",
    "TRAFFIC_MAP_ORIGINAL_PATH_1000 =  \"../../datasets/PaperResults/traffic_maps/one_set_three_tensors/sf_traffic_map_1000.pkl\"\n",
    "PROTECTED_TRAFFIC_MAP_PATH_1000 =  \"../../datasets/PaperResults/traffic_maps/one_set_three_tensors/sf_protected_traffic_map_1000.pkl\""
   ]
  },
  {
   "cell_type": "code",
   "execution_count": 4,
   "id": "b199d9d8",
   "metadata": {},
   "outputs": [],
   "source": [
    "def load_object(file_path, encoding=None):\n",
    "    \"\"\"\n",
    "    To be used after calling save_object().\n",
    "    Loads a python object that was pickled with save_object()\n",
    "\n",
    "    :param str file_path: Path to the pickled\n",
    "    :param str encoding: None or type of file encoding\n",
    "    :return: None if load fails, else the pickled object\n",
    "    :rtype: None if fails or type of objected pickled with save_object() \n",
    "    \"\"\"\n",
    "    \n",
    "    if file_path is not None:\n",
    "\n",
    "        with open(file_path, 'rb') as file:\n",
    "\n",
    "            if encoding is not None:\n",
    "                return pickle.load(file, encoding='latin1')\n",
    "            else:\n",
    "                return pickle.load(file)\n",
    "\n",
    "    return None"
   ]
  },
  {
   "cell_type": "code",
   "execution_count": 5,
   "id": "c142528c",
   "metadata": {},
   "outputs": [],
   "source": [
    "def save_object(obj, file_path):\n",
    "    \"\"\"\n",
    "    Save python object obj in the given file_path with pickle.\n",
    "\n",
    "    :param object obj: Python object to be saved\n",
    "    :param str file_path: Path where to save obj\n",
    "    :return: If the save was successful\n",
    "    :rtype: bool\n",
    "    \"\"\"\n",
    "\n",
    "    if obj is not None and file_path is not None:\n",
    "\n",
    "        with open(file_path, 'wb') as file:\n",
    "            pickle.dump(obj, file)\n",
    "\n",
    "        return True\n",
    "        \n",
    "    return False"
   ]
  },
  {
   "cell_type": "code",
   "execution_count": 6,
   "id": "1187b49d",
   "metadata": {},
   "outputs": [],
   "source": [
    "def denormalize_data(dataset, scaler = None, normalization_ranges = None):\n",
    "    \"\"\"\n",
    "        Function to denormalize the dataset using the scaler used to normalize the dataset.\n",
    "        Manual denormalization can be used for separate testing data denormalization or for denormalization of the whole dataset.\n",
    "    \"\"\"\n",
    "    dataset_cpy = copy.deepcopy(dataset)\n",
    "    \n",
    "    if scaler is None and normalization_ranges is not None:\n",
    "        X_min = normalization_ranges[\"min\"][:2]\n",
    "        X_max = normalization_ranges[\"max\"][:2]\n",
    "        \n",
    "        dataset_cpy = [arr * (X_max - X_min) + X_min for arr in dataset]\n",
    "            \n",
    "    if scaler is not None:\n",
    "        for item in range(len(dataset)):\n",
    "            dataset_cpy[item] = scaler.inverse_transform(dataset_cpy[item])\n",
    "       \n",
    "    return dataset_cpy"
   ]
  },
  {
   "cell_type": "code",
   "execution_count": 7,
   "id": "7a0fa895",
   "metadata": {},
   "outputs": [],
   "source": [
    "def get_data_in_square(data, square):\n",
    "    \"\"\" Get data inside the square defined by the square dictionary \"\"\" \n",
    "    \n",
    "    # Ensure correct bounds regardless of coordinate sign or order\n",
    "    lat_min = min(square[\"max_lat\"], square[\"min_lat\"])\n",
    "    lat_max = max(square[\"max_lat\"], square[\"min_lat\"])\n",
    "    lon_min = min(square[\"min_lon\"], square[\"max_lon\"])\n",
    "    lon_max = max(square[\"min_lon\"], square[\"max_lon\"])\n",
    "\n",
    "    filtered_data = []\n",
    "    \n",
    "    for traj in data:\n",
    "        in_lat_bounds = traj[\"lat\"].between(lat_min, lat_max)\n",
    "        in_lon_bounds = traj[\"lon\"].between(lon_min, lon_max)\n",
    "\n",
    "        if (in_lat_bounds & in_lon_bounds).all():\n",
    "            filtered_data.append(traj)\n",
    "            \n",
    "            \n",
    "    return filtered_data"
   ]
  },
  {
   "cell_type": "code",
   "execution_count": 8,
   "id": "2679beb5",
   "metadata": {},
   "outputs": [],
   "source": [
    "def np_to_df(original_trajectories, protected_trajectories):\n",
    "    columns = original_trajectories[0].columns\n",
    "    protected_trajectories_dfs = []\n",
    "\n",
    "    index = 0\n",
    "    for traj in original_trajectories:\n",
    "        df = pd.DataFrame(columns=columns)\n",
    "        traj = traj.copy()\n",
    "        df[\"lat\"] = protected_trajectories[index][:, 0]\n",
    "        df[\"lon\"] = protected_trajectories[index][:, 1]\n",
    "        df[\"timestamp\"] = traj[\"timestamp\"]\n",
    "        df[\"time_diff\"] = traj[\"time_diff\"]\n",
    "        df[\"distance_km\"] = traj[\"distance_km\"]\n",
    "        df[\"speed_km\"] = traj[\"speed_km\"]\n",
    "        df[\"date\"] = traj[\"date\"]\n",
    "        df[\"time\"] = traj[\"time\"]\n",
    "        index += 1\n",
    "        protected_trajectories_dfs.append(df)\n",
    "    return protected_trajectories_dfs"
   ]
  },
  {
   "cell_type": "code",
   "execution_count": 9,
   "id": "d1f62984",
   "metadata": {},
   "outputs": [],
   "source": [
    "def split_by_area(data_square, target_area_m2):\n",
    "    \"\"\"\n",
    "    Given a square of coordinates data_square, with a target area size in square meters, calculates smaller squares inside data_square.\n",
    "    Retruns a list of squares inside data_square.\n",
    "    \"\"\"\n",
    "    \n",
    "    def meters_to_degrees(lat, target_area_m2):\n",
    "        \"\"\"\n",
    "        Computes the coordinates for a target area in square meters.\n",
    "            - 1° of latitude is approximately 111,000 meters\n",
    "            - 1° of longitude is approximately 111,320 meters at equator times cos(lat)\n",
    "        \"\"\"\n",
    "        side_m = sqrt(target_area_m2)\n",
    "        deg_lat = side_m / 111_000\n",
    "        deg_lon = side_m / (111_320 * cos(radians(lat)))\n",
    "        return deg_lat, deg_lon\n",
    "\n",
    "    lat_max = data_square[\"max_lat\"]\n",
    "    lat_min = data_square[\"min_lat\"]\n",
    "    lon_min = data_square[\"min_lon\"]\n",
    "    lon_max = data_square[\"max_lon\"]\n",
    "\n",
    "    center_lat = (lat_max + lat_min) / 2\n",
    "    delta_lat, delta_lon = meters_to_degrees(center_lat, target_area_m2)\n",
    "\n",
    "    lat = lat_min\n",
    "    squares = []\n",
    "\n",
    "    while lat < lat_max:\n",
    "        next_lat = min(lat + delta_lat, lat_max)\n",
    "        lon = lon_min\n",
    "        while lon < lon_max:\n",
    "            next_lon = min(lon + delta_lon, lon_max)\n",
    "            squares.append({\n",
    "                \"min_lat\": lat,\n",
    "                \"max_lat\": next_lat,\n",
    "                \"min_lon\": lon,\n",
    "                \"max_lon\": next_lon\n",
    "            })\n",
    "            lon = next_lon\n",
    "        lat = next_lat\n",
    "\n",
    "    return squares"
   ]
  },
  {
   "cell_type": "code",
   "execution_count": 10,
   "id": "e4e1b1eb",
   "metadata": {},
   "outputs": [],
   "source": [
    "def get_points_in_time_range(trajectories, start_time, end_time):\n",
    "    start_dt = pd.to_datetime(start_time)\n",
    "    end_dt = pd.to_datetime(end_time)\n",
    "\n",
    "    filtered_trajectories = []\n",
    "    for trajectory in trajectories:\n",
    "        if 'datetime' not in trajectory.columns:\n",
    "            trajectory = trajectory.copy()\n",
    "            trajectory['datetime'] = pd.to_datetime(\n",
    "                trajectory['date'].astype(str) + ' ' + trajectory['time'].astype(str),\n",
    "                format='%Y-%m-%d %H:%M:%S',\n",
    "                errors='coerce'\n",
    "            )\n",
    "\n",
    "        mask = (trajectory['datetime'] >= start_dt) & (trajectory['datetime'] <= end_dt)\n",
    "        if mask.any():\n",
    "            filtered_trajectories.append(trajectory.loc[mask])\n",
    "\n",
    "    return filtered_trajectories\n",
    "\n",
    "def _process_trajectory_by_date(args):\n",
    "    day, trajectories, start_time, end_time = args\n",
    "    start_dt = f\"{day} {start_time}\"\n",
    "    end_dt = f\"{day} {end_time}\"\n",
    "    filtered = get_points_in_time_range(trajectories, start_dt, end_dt)\n",
    "    print(f\"Date {day} - Number of trajectories: {len(filtered)}\")\n",
    "    return {'date': day, 'trajectories': filtered}\n",
    "\n",
    "def get_trajectories_by_date(trajectories, dates, start_time, end_time):\n",
    "    tasks = [(day, trajectories, start_time, end_time) for day in dates]\n",
    "\n",
    "    results = []\n",
    "    with ThreadPoolExecutor() as executor:\n",
    "        futures = {executor.submit(_process_trajectory_by_date, task): task[0] for task in tasks}\n",
    "        for future in as_completed(futures):\n",
    "            result = future.result()\n",
    "            results.append(result)\n",
    "\n",
    "    return pd.DataFrame(results)\n",
    "\n"
   ]
  },
  {
   "cell_type": "code",
   "execution_count": 11,
   "id": "17577455",
   "metadata": {},
   "outputs": [],
   "source": [
    "def get_dates(trajectories):\n",
    "    \"\"\"\n",
    "    Returns a list of unique dates from a list of trajectories.\n",
    "    \n",
    "    Each trajectory is a DataFrame with a 'date' column.\n",
    "    \"\"\"\n",
    "    all_dates = pd.concat([df[\"date\"] for df in trajectories], ignore_index=True)\n",
    "    unique_dates = all_dates.unique()\n",
    "\n",
    "    return pd.Series(unique_dates)"
   ]
  },
  {
   "cell_type": "code",
   "execution_count": 12,
   "id": "2b29713b",
   "metadata": {},
   "outputs": [],
   "source": [
    "def split_by_weekday(df):\n",
    "    weekdays = [\"monday\", \"tuesday\", \"wednesday\", \"thursday\", \"friday\", \"saturday\", \"sunday\"]\n",
    "    return {day: df[df['date'].dt.weekday == i] for i, day in enumerate(weekdays)}"
   ]
  },
  {
   "cell_type": "code",
   "execution_count": 13,
   "id": "524fb69c",
   "metadata": {},
   "outputs": [],
   "source": [
    "def get_grid_for_point(lat, lon, grid_squares):\n",
    "    for idx, square in enumerate(grid_squares):\n",
    "        if (square['min_lat'] <= lat <= square['max_lat'] and\n",
    "            square['min_lon'] <= lon <= square['max_lon']):\n",
    "            return idx\n",
    "    return None\n",
    "\n",
    "def plot_traffic_one_day_for_poi(lat, lon, grid_squares, daily_dict, protected_dict, day, lmin=\"300\"):\n",
    "    grid_idx = get_grid_for_point(lat, lon, grid_squares)\n",
    "    if grid_idx is None:\n",
    "        print(\"Location is not within any grid square.\")\n",
    "        return\n",
    "\n",
    "    plt.figure(figsize=(14, 7))\n",
    "\n",
    "    # Plot original data for the specific day\n",
    "    if day in daily_dict:\n",
    "        traffic_map = daily_dict[day][\"traffic_map\"]\n",
    "        if traffic_map is not None:\n",
    "            aggregated_time_series = np.sum(traffic_map[grid_idx, :, :], axis=1)\n",
    "            time_steps = np.arange(len(aggregated_time_series))\n",
    "            plt.plot(time_steps, aggregated_time_series, marker='o', label=f\"{day} original\")\n",
    "\n",
    "    # Plot protected data for the specific day\n",
    "    if day in protected_dict:\n",
    "        traffic_map = protected_dict[day][\"traffic_map\"]\n",
    "        if traffic_map is not None:\n",
    "            aggregated_time_series = np.sum(traffic_map[grid_idx, :, :], axis=1)\n",
    "            time_steps = np.arange(len(aggregated_time_series))\n",
    "            plt.plot(time_steps, aggregated_time_series, marker='x', label=f\"{day} protected\")\n",
    "\n",
    "    num_steps = len(aggregated_time_series)\n",
    "    time_labels = [f\"{(t * 10) // 60:02}:{(t * 10) % 60:02}\" for t in range(num_steps)]\n",
    "    plt.xticks(ticks=np.arange(0, num_steps, 6), labels=time_labels[::6], rotation=45) \n",
    "\n",
    "    plt.title(f\"Aggregated Traffic for POI at ({lat}, {lon}) on {day} [Grid {grid_idx}] - Lmin: {lmin}\")\n",
    "    plt.xlabel(\"Time Steps (1 point = 10 min)\")\n",
    "    plt.ylabel(\"Trajectory points in grid\")\n",
    "    plt.legend()\n",
    "    plt.grid(True)\n",
    "    plt.tight_layout()"
   ]
  },
  {
   "cell_type": "code",
   "execution_count": 14,
   "id": "e95db3e3",
   "metadata": {},
   "outputs": [],
   "source": [
    "def get_time_intervals(START_TIME, END_TIME, minute_bins):\n",
    "    start = pd.to_datetime(START_TIME)\n",
    "    end = pd.to_datetime(END_TIME)\n",
    "    \n",
    "    intervals = pd.date_range(start=start, end=end, freq=f'{minute_bins}min', inclusive='left')\n",
    "    time_intervals = [t.time() for t in intervals]\n",
    "    time_intervals = np.array(time_intervals)\n",
    "    return time_intervals\n",
    "\n",
    "def get_grid_cell(lat, lon, grid_squares):\n",
    "    for idx, square in enumerate(grid_squares):\n",
    "        if (square[\"min_lat\"] <= lat < square[\"max_lat\"] and\n",
    "            square[\"min_lon\"] <= lon < square[\"max_lon\"]):\n",
    "            return idx\n",
    "    return None\n",
    "\n",
    "def get_traffic_map(time_bins, grid_squares, daily_df, START_TIME=START_TIME, END_TIME=END_TIME):\n",
    "    \n",
    "    intervals = get_time_intervals(START_TIME, END_TIME, minute_bins=time_bins)\n",
    "    y_intervals = len(intervals)\n",
    "    x_bin = len(grid_squares)\n",
    "\n",
    "    unique_dates = sorted(daily_df[\"date\"].unique())\n",
    "    z_days = len(unique_dates)\n",
    "\n",
    "    # Index mapping\n",
    "    date_to_z = {d: i for i, d in enumerate(unique_dates)}\n",
    "    interval_to_y = {interval: i for i, interval in enumerate(intervals)}\n",
    "\n",
    "    # Initialize traffic map\n",
    "    traffic_map = np.zeros((x_bin, y_intervals, z_days), dtype=int)\n",
    "\n",
    "\n",
    "    for _, row in daily_df.iterrows():\n",
    "        date = row['date']\n",
    "        if date not in date_to_z:\n",
    "            continue\n",
    "        z_idx = date_to_z[date]\n",
    "\n",
    "        traj_list = row['trajectories']\n",
    "\n",
    "        for df in traj_list:\n",
    "            df = df.copy()\n",
    "            df['time_bin'] = df['datetime'].dt.floor(f'{time_bins}min').dt.time\n",
    "\n",
    "            for _, pt in df.iterrows():\n",
    "                grid_idx = get_grid_cell(pt.lat, pt.lon, grid_squares)\n",
    "                time_bin = pt['time_bin']\n",
    "                if grid_idx is not None and time_bin in interval_to_y:\n",
    "                    y_idx = interval_to_y[time_bin]\n",
    "                    traffic_map[grid_idx, y_idx, z_idx] += 1\n",
    "    \n",
    "    return traffic_map, unique_dates, intervals"
   ]
  },
  {
   "cell_type": "code",
   "execution_count": 15,
   "id": "2fb24713",
   "metadata": {},
   "outputs": [],
   "source": [
    "def get_traffic_map_data(dataset_df, grid_squares):\n",
    "    porto_traffic_maps = {}\n",
    "\n",
    "    for day, df in dataset_df.items():\n",
    "        traffic_map_porto, unique_dates_porto, intervals_porto = get_traffic_map(\n",
    "            MINUTE_INTERVAL, grid_squares, df,\n",
    "            START_TIME=START_TIME, END_TIME=END_TIME\n",
    "        )\n",
    "        porto_traffic_maps[day] = {\n",
    "            \"traffic_map\": traffic_map_porto,\n",
    "            \"unique_dates\": unique_dates_porto,\n",
    "            \"intervals\": intervals_porto\n",
    "        }\n",
    "    return porto_traffic_maps"
   ]
  },
  {
   "cell_type": "code",
   "execution_count": 16,
   "id": "886dd43f",
   "metadata": {},
   "outputs": [],
   "source": [
    "def create_square_bbox(center_lat, center_lon, size_km):\n",
    "    \"\"\"\n",
    "    Create a square bounding box around a central point.\n",
    "\n",
    "    Args:\n",
    "        center_lat (float): Latitude of the center point.\n",
    "        center_lon (float): Longitude of the center point.\n",
    "        size_km (float): Length of one side of the square in kilometers.\n",
    "\n",
    "    Returns:\n",
    "        Dict containing (min_lat, min_lon, max_lat, max_lon).\n",
    "    \"\"\"\n",
    "    data_square = {}\n",
    "    # Approximate conversion: 1 degree latitude ~ 111 km\n",
    "    delta_lat = (size_km / 2) / 111.0\n",
    "\n",
    "    # Approximate conversion: 1 degree longitude ~ 111 km * cos(latitude in radians)\n",
    "    from math import cos, radians\n",
    "    delta_lon = (size_km / 2) / (111.0 * cos(radians(center_lat)))\n",
    "\n",
    "    data_square[\"min_lat\"] = center_lat - delta_lat\n",
    "    data_square[\"max_lat\"] = center_lat + delta_lat\n",
    "    data_square[\"min_lon\"] = center_lon - delta_lon\n",
    "    data_square[\"max_lon\"] = center_lon + delta_lon\n",
    "\n",
    "\n",
    "    return data_square\n"
   ]
  },
  {
   "cell_type": "code",
   "execution_count": 17,
   "id": "293172fb",
   "metadata": {},
   "outputs": [
    {
     "name": "stdout",
     "output_type": "stream",
     "text": [
      "19500\n"
     ]
    },
    {
     "data": {
      "text/plain": [
       "19781"
      ]
     },
     "execution_count": 17,
     "metadata": {},
     "output_type": "execute_result"
    }
   ],
   "source": [
    "normalization_ranges=load_object(DENORMALIZER_RANGES_FILE)\n",
    "trajectories_protected_norm = load_object(FILE_PROTECTED)\n",
    "\n",
    "trajectories_protected = denormalize_data(trajectories_protected_norm, normalization_ranges=normalization_ranges)\n",
    "len_protected = len(trajectories_protected)\n",
    "print(len_protected)\n",
    "\n",
    "# Original\n",
    "trajectories_original = load_object(FILE_ORIGINAL_PATH)\n",
    "len(trajectories_original)\n",
    "\n",
    "trajectories_original = get_data_in_square(data=trajectories_original, square=DATA_SQUARE)\n",
    "len(trajectories_original)"
   ]
  },
  {
   "cell_type": "code",
   "execution_count": 18,
   "id": "434dd8f2",
   "metadata": {},
   "outputs": [
    {
     "data": {
      "text/plain": [
       "19500"
      ]
     },
     "execution_count": 18,
     "metadata": {},
     "output_type": "execute_result"
    }
   ],
   "source": [
    "trajectories_subset = trajectories_original[:len_protected]\n",
    "len(trajectories_subset)"
   ]
  },
  {
   "cell_type": "code",
   "execution_count": 19,
   "id": "2c66a054",
   "metadata": {},
   "outputs": [
    {
     "data": {
      "text/plain": [
       "[<matplotlib.lines.Line2D at 0x750c55876490>]"
      ]
     },
     "execution_count": 19,
     "metadata": {},
     "output_type": "execute_result"
    },
    {
     "data": {
      "image/png": "[encoded data removed]",
      "text/plain": [
       "<Figure size 640x480 with 1 Axes>"
      ]
     },
     "metadata": {},
     "output_type": "display_data"
    }
   ],
   "source": [
    "index = 10\n",
    "plt.figure() # lat lon\n",
    "plt.plot(trajectories_protected[index][:, 0], trajectories_protected[index][:, 1]) \n",
    "plt.plot(trajectories_subset[index].lat, trajectories_subset[index].lon)"
   ]
  },
  {
   "cell_type": "code",
   "execution_count": 20,
   "id": "a56092c7",
   "metadata": {},
   "outputs": [],
   "source": [
    "# remove the first row from each original trajectory\n",
    "trajectories_subset = [df.iloc[1:].reset_index(drop=True) for df in trajectories_subset]"
   ]
  },
  {
   "cell_type": "code",
   "execution_count": 21,
   "id": "b966367f",
   "metadata": {},
   "outputs": [
    {
     "data": {
      "text/plain": [
       "True"
      ]
     },
     "execution_count": 21,
     "metadata": {},
     "output_type": "execute_result"
    }
   ],
   "source": [
    "len(trajectories_subset[0]) == len(trajectories_subset[0])"
   ]
  },
  {
   "cell_type": "code",
   "execution_count": 22,
   "id": "b04e8785",
   "metadata": {},
   "outputs": [],
   "source": [
    "protected_denorm_df = np_to_df(trajectories_subset, trajectories_protected)"
   ]
  },
  {
   "cell_type": "code",
   "execution_count": 23,
   "id": "1384df2c",
   "metadata": {},
   "outputs": [],
   "source": [
    "bbox_500 = create_square_bbox(POI_LAT, POI_LON, (L_MIN_500/2)/1000)\n",
    "bbox_700 = create_square_bbox(POI_LAT, POI_LON, (L_MIN_700/2)/1000)\n",
    "bbox_1000 = create_square_bbox(POI_LAT, POI_LON, (L_MIN_1000/2)/1000)"
   ]
  },
  {
   "cell_type": "code",
   "execution_count": 24,
   "id": "c8db3906",
   "metadata": {},
   "outputs": [],
   "source": [
    "def get_points_in_square(data, square):\n",
    "    \"\"\" Get data inside the square defined by the square dictionary. \n",
    "        This version retrieves data if at least one point in the trajectory \n",
    "        is inside the square's boundaries.\n",
    "    \"\"\"\n",
    "    \n",
    "    # Ensure correct bounds regardless of coordinate sign or order\n",
    "    lat_min = min(square[\"max_lat\"], square[\"min_lat\"])\n",
    "    lat_max = max(square[\"max_lat\"], square[\"min_lat\"])\n",
    "    lon_min = min(square[\"min_lon\"], square[\"max_lon\"])\n",
    "    lon_max = max(square[\"min_lon\"], square[\"max_lon\"])\n",
    "\n",
    "    filtered_data = []\n",
    "    \n",
    "    for traj in data:\n",
    "        # Check if any point in the trajectory lies within the bounds\n",
    "        in_lat_bounds = traj[\"lat\"].between(lat_min, lat_max)\n",
    "        in_lon_bounds = traj[\"lon\"].between(lon_min, lon_max)\n",
    "\n",
    "        # If at least one point is in bounds, include this trajectory\n",
    "        if (in_lat_bounds | in_lon_bounds).any():\n",
    "            filtered_data.append(traj)\n",
    "            \n",
    "    return filtered_data\n"
   ]
  },
  {
   "cell_type": "code",
   "execution_count": 25,
   "id": "e53f2bb3",
   "metadata": {},
   "outputs": [],
   "source": [
    "trajectories_500 = get_points_in_square(data=trajectories_subset, square=bbox_500)\n",
    "trajectories_700 = get_points_in_square(data=trajectories_subset, square=bbox_700)\n",
    "trajectories_1000 = get_points_in_square(data=trajectories_subset, square=bbox_1000)"
   ]
  },
  {
   "cell_type": "code",
   "execution_count": 26,
   "id": "1895f02e",
   "metadata": {},
   "outputs": [],
   "source": [
    "protected_500 = get_points_in_square(data=protected_denorm_df, square=bbox_500)\n",
    "protected_700 = get_points_in_square(data=protected_denorm_df, square=bbox_700)\n",
    "protected_1000 = get_points_in_square(data=protected_denorm_df, square=bbox_1000)"
   ]
  },
  {
   "cell_type": "code",
   "execution_count": 27,
   "id": "ca1d033f",
   "metadata": {},
   "outputs": [],
   "source": [
    "dates = get_dates(trajectories_subset).drop_duplicates()"
   ]
  },
  {
   "cell_type": "code",
   "execution_count": 28,
   "id": "e0d4e9bc",
   "metadata": {},
   "outputs": [
    {
     "name": "stdout",
     "output_type": "stream",
     "text": [
      "Date 2008-06-09 - Number of trajectories: 372\n",
      "Date 2008-06-06 - Number of trajectories: 470\n",
      "Date 2008-06-02 - Number of trajectories: 522\n",
      "Date 2008-05-31 - Number of trajectories: 525\n",
      "Date 2008-05-27 - Number of trajectories: 683\n",
      "Date 2008-05-28 - Number of trajectories: 673\n",
      "Date 2008-06-03 - Number of trajectories: 642\n",
      "Date 2008-05-30 - Number of trajectories: 599\n",
      "Date 2008-06-04 - Number of trajectories: 583\n",
      "Date 2008-06-05 - Number of trajectories: 574\n",
      "Date 2008-06-08 - Number of trajectories: 533\n",
      "Date 2008-05-26 - Number of trajectories: 641\n",
      "Date 2008-05-25 - Number of trajectories: 641\n",
      "Date 2008-05-24 - Number of trajectories: 591\n",
      "Date 2008-05-23 - Number of trajectories: 545\n",
      "Date 2008-05-21 - Number of trajectories: 527\n",
      "Date 2008-05-20 - Number of trajectories: 595\n",
      "Date 2008-06-01 - Number of trajectories: 518\n",
      "Date 2008-05-18 - Number of trajectories: 497\n",
      "Date 2008-05-17 - Number of trajectories: 360\n",
      "Date 2008-06-07 - Number of trajectories: 523\n",
      "Date 2008-06-10 - Number of trajectories: 64\n",
      "Date 2008-05-29 - Number of trajectories: 633\n",
      "Date 2008-05-22 - Number of trajectories: 514\n",
      "Date 2008-05-19 - Number of trajectories: 454\n",
      "Date 2008-05-27 - Number of trajectories: 694\n",
      "Date 2008-05-31 - Number of trajectories: 544\n",
      "Date 2008-06-09 - Number of trajectories: 377\n",
      "Date 2008-06-02 - Number of trajectories: 556\n",
      "Date 2008-06-05 - Number of trajectories: 572\n",
      "Date 2008-06-06 - Number of trajectories: 474\n",
      "Date 2008-05-28 - Number of trajectories: 682\n",
      "Date 2008-05-26 - Number of trajectories: 651\n",
      "Date 2008-06-03 - Number of trajectories: 646\n",
      "Date 2008-06-08 - Number of trajectories: 515\n",
      "Date 2008-05-30 - Number of trajectories: 583\n",
      "Date 2008-06-04 - Number of trajectories: 588\n",
      "Date 2008-05-23 - Number of trajectories: 556\n",
      "Date 2008-05-24 - Number of trajectories: 580\n",
      "Date 2008-05-21 - Number of trajectories: 528\n",
      "Date 2008-05-25 - Number of trajectories: 634\n",
      "Date 2008-06-01 - Number of trajectories: 519\n",
      "Date 2008-05-17 - Number of trajectories: 356\n",
      "Date 2008-06-07 - Number of trajectories: 530\n",
      "Date 2008-05-18 - Number of trajectories: 513\n",
      "Date 2008-06-10 - Number of trajectories: 62\n",
      "Date 2008-05-20 - Number of trajectories: 580\n",
      "Date 2008-05-22 - Number of trajectories: 515\n",
      "Date 2008-05-29 - Number of trajectories: 641\n",
      "Date 2008-05-19 - Number of trajectories: 462\n"
     ]
    }
   ],
   "source": [
    "trajectories_by_date_500 = get_trajectories_by_date(trajectories_500, dates, START_TIME, END_TIME)\n",
    "protected_by_date_500 = get_trajectories_by_date(protected_500, dates, START_TIME, END_TIME)"
   ]
  },
  {
   "cell_type": "code",
   "execution_count": 29,
   "id": "be7145eb",
   "metadata": {},
   "outputs": [],
   "source": [
    "# trajectories_by_date_700 = get_trajectories_by_date(trajectories_700, dates, START_TIME, END_TIME)\n",
    "# protected_by_date_700 = get_trajectories_by_date(protected_700, dates, START_TIME, END_TIME)"
   ]
  },
  {
   "cell_type": "code",
   "execution_count": 30,
   "id": "6b19c7be",
   "metadata": {},
   "outputs": [],
   "source": [
    "# trajectories_by_date_500 = get_trajectories_by_date(trajectories_500, dates, START_TIME, END_TIME)\n",
    "# protected_by_date_500 = get_trajectories_by_date(protected_500, dates, START_TIME, END_TIME)"
   ]
  },
  {
   "cell_type": "code",
   "execution_count": 31,
   "id": "3c056425",
   "metadata": {},
   "outputs": [],
   "source": [
    "# Transform from date string to datetime.date all dates in trajectories_by_dates\n",
    "trajectories_by_date_500[\"date\"] = pd.to_datetime(trajectories_by_date_500[\"date\"])\n",
    "protected_by_date_500[\"date\"] = pd.to_datetime(protected_by_date_500[\"date\"])\n",
    "\n",
    "# trajectories_by_date_700[\"date\"] = pd.to_datetime(trajectories_by_date_700[\"date\"])\n",
    "# protected_by_date_700[\"date\"] = pd.to_datetime(protected_by_date_700[\"date\"])\n",
    "\n",
    "# trajectories_by_date_500[\"date\"] = pd.to_datetime(trajectories_by_date_900[\"date\"])\n",
    "# protected_by_date_900[\"date\"] = pd.to_datetime(protected_by_date_900[\"date\"])\n"
   ]
  },
  {
   "cell_type": "code",
   "execution_count": 32,
   "id": "f872d898",
   "metadata": {},
   "outputs": [],
   "source": [
    "def get_traffic_map_with_flow(time_bins, grid_squares, daily_df, START_TIME=START_TIME, END_TIME=END_TIME):\n",
    "    \"\"\"\n",
    "    Parallelized computation of:\n",
    "    - point_map: count of trajectory points\n",
    "    - flow_map: unique vehicles per grid/time\n",
    "    - avg_traversal_map: average traversal time (seconds) per vehicle\n",
    "    \"\"\"\n",
    "\n",
    "    # Prepare dimensions\n",
    "    intervals = get_time_intervals(START_TIME, END_TIME, minute_bins=time_bins)\n",
    "    y_intervals = len(intervals)\n",
    "    x_bin = len(grid_squares)\n",
    "    unique_dates = sorted(daily_df[\"date\"].unique())\n",
    "    z_days = len(unique_dates)\n",
    "\n",
    "    date_to_z = {d: i for i, d in enumerate(unique_dates)}\n",
    "    interval_to_y = {interval: i for i, interval in enumerate(intervals)}\n",
    "\n",
    "    # Initialize result tensors\n",
    "    point_map = np.zeros((x_bin, y_intervals, z_days), dtype=int)\n",
    "    flow_map = np.zeros((x_bin, y_intervals, z_days), dtype=int)\n",
    "\n",
    "    def process_day(row):\n",
    "        \"\"\"Process a single day: returns (point_map_day, flow_map_day, z_idx)\"\"\"\n",
    "        date = row['date']\n",
    "        if date not in date_to_z:\n",
    "            return None\n",
    "        z_idx = date_to_z[date]\n",
    "\n",
    "        local_point_map = np.zeros((x_bin, y_intervals), dtype=int)\n",
    "        local_flow_map = np.zeros((x_bin, y_intervals), dtype=int)\n",
    "\n",
    "        traj_list = row['trajectories']\n",
    "\n",
    "        for vehicle_id, df in enumerate(traj_list):\n",
    "            df = df.copy()\n",
    "            df['time_bin'] = df['datetime'].dt.floor(f'{time_bins}min').dt.time\n",
    "\n",
    "            for time_bin, group in df.groupby('time_bin'):\n",
    "                y_idx = interval_to_y.get(time_bin)\n",
    "                if y_idx is None:\n",
    "                    continue\n",
    "\n",
    "                visited_grids = set()\n",
    "\n",
    "                for _, pt in group.iterrows():\n",
    "                    grid_idx = get_grid_cell(pt.lat, pt.lon, grid_squares)\n",
    "                    if grid_idx is not None:\n",
    "                        local_point_map[grid_idx, y_idx] += 1\n",
    "                        visited_grids.add(grid_idx)\n",
    "\n",
    "                for grid_idx in visited_grids:\n",
    "                    local_flow_map[grid_idx, y_idx] += 1\n",
    "\n",
    "        return local_point_map, local_flow_map, z_idx\n",
    "\n",
    "    # Parallel processing\n",
    "    with ThreadPoolExecutor() as executor:\n",
    "        results = executor.map(process_day, [row for _, row in daily_df.iterrows()])\n",
    "\n",
    "    # Merge results into global tensors\n",
    "    for res in results:\n",
    "        if res is None:\n",
    "            continue\n",
    "        local_point_map, local_flow_map, z_idx = res\n",
    "        point_map[:, :, z_idx] += local_point_map\n",
    "        flow_map[:, :, z_idx] += local_flow_map\n",
    "\n",
    "    # Compute average traversal time\n",
    "    avg_traversal_map = np.zeros_like(point_map, dtype=float)\n",
    "    mask = flow_map > 0\n",
    "    avg_traversal_map[mask] = (point_map[mask] * 60) / flow_map[mask]  # 60s per point\n",
    "\n",
    "    return point_map, flow_map, avg_traversal_map, unique_dates, intervals\n"
   ]
  },
  {
   "cell_type": "code",
   "execution_count": 35,
   "id": "17727841",
   "metadata": {},
   "outputs": [],
   "source": [
    "point_map_original_500, flow_map_original_500, avg_traversal_original_500, unique_dates_500, intervals_500 = get_traffic_map_with_flow(\n",
    "    MINUTE_INTERVAL, [bbox_500], trajectories_by_date_500,\n",
    "    START_TIME=START_TIME, END_TIME=END_TIME\n",
    ")\n"
   ]
  },
  {
   "cell_type": "code",
   "execution_count": 37,
   "id": "524fd3c4",
   "metadata": {},
   "outputs": [],
   "source": [
    "point_map_protected_500, flow_map_protected_500, avg_traversal_protected_500, unique_dates_500, intervals_500 = get_traffic_map_with_flow(\n",
    "    MINUTE_INTERVAL, [bbox_500], protected_by_date_500,\n",
    "    START_TIME=START_TIME, END_TIME=END_TIME\n",
    ")\n"
   ]
  },
  {
   "cell_type": "code",
   "execution_count": 40,
   "id": "50b4aee4",
   "metadata": {},
   "outputs": [
    {
     "name": "stdout",
     "output_type": "stream",
     "text": [
      "\n",
      "Average Waiting Time by Weekday for Grid 0:\n",
      "Mon: Real = 78.81s | Protected = 76.29s\n",
      "Tue: Real = 73.99s | Protected = 85.26s\n",
      "Wed: Real = 76.38s | Protected = 76.74s\n",
      "Thu: Real = 84.20s | Protected = 86.87s\n",
      "Fri: Real = 99.00s | Protected = 103.53s\n",
      "Sat: Real = 74.48s | Protected = 80.73s\n",
      "Sun: Real = 76.80s | Protected = 81.17s\n"
     ]
    },
    {
     "data": {
      "text/plain": [
       "(['Mon', 'Tue', 'Wed', 'Thu', 'Fri', 'Sat', 'Sun'],\n",
       " [78.80952380952381,\n",
       "  73.9940119760479,\n",
       "  76.38157894736842,\n",
       "  84.20454545454545,\n",
       "  99.0,\n",
       "  74.48170731707317,\n",
       "  76.8],\n",
       " [76.29139072847683,\n",
       "  85.26315789473684,\n",
       "  76.73758865248227,\n",
       "  86.87022900763358,\n",
       "  103.53125,\n",
       "  80.73417721518987,\n",
       "  81.16766467065868])"
      ]
     },
     "execution_count": 40,
     "metadata": {},
     "output_type": "execute_result"
    }
   ],
   "source": [
    "def show_mean_waiting_time_per_weekday(\n",
    "    lat, lon, grid_squares,\n",
    "    avg_traversal_original, avg_traversal_protected,\n",
    "    unique_dates\n",
    "):\n",
    "    \"\"\"\n",
    "    Compute average waiting time per weekday for a specific grid cell\n",
    "    in both original and protected datasets.\n",
    "    \"\"\"\n",
    "    from datetime import datetime\n",
    "\n",
    "    grid_idx = get_grid_for_point(lat, lon, grid_squares)\n",
    "    if grid_idx is None:\n",
    "        print(\"POI is outside the grid area.\")\n",
    "        return\n",
    "\n",
    "    # Map dates to weekday index (0 = Monday, 6 = Sunday)\n",
    "    weekday_map = {i: [] for i in range(7)}  # original\n",
    "    protected_map = {i: [] for i in range(7)}  # protected\n",
    "\n",
    "    for z, date_str in enumerate(unique_dates):\n",
    "        weekday = pd.to_datetime(date_str).weekday()  # 0 to 6\n",
    "\n",
    "        # Extract 1D traversal time series for this day and grid\n",
    "        original_vals = avg_traversal_original[grid_idx, :, z]\n",
    "        protected_vals = avg_traversal_protected[grid_idx, :, z]\n",
    "\n",
    "        # Only nonzero entries (where flow > 0)\n",
    "        real_nonzero = original_vals[original_vals > 0]\n",
    "        protected_nonzero = protected_vals[protected_vals > 0]\n",
    "\n",
    "        if real_nonzero.size > 0:\n",
    "            weekday_map[weekday].extend(real_nonzero.tolist())\n",
    "\n",
    "        if protected_nonzero.size > 0:\n",
    "            protected_map[weekday].extend(protected_nonzero.tolist())\n",
    "\n",
    "    # Compute mean waiting times\n",
    "    weekday_names = [\"Mon\", \"Tue\", \"Wed\", \"Thu\", \"Fri\", \"Sat\", \"Sun\"]\n",
    "    real_means = [np.mean(weekday_map[i]) if weekday_map[i] else np.nan for i in range(7)]\n",
    "    protected_means = [np.mean(protected_map[i]) if protected_map[i] else np.nan for i in range(7)]\n",
    "\n",
    "    # Display results\n",
    "    print(f\"\\nAverage Waiting Time by Weekday for Grid {grid_idx}:\")\n",
    "    for i in range(7):\n",
    "        print(f\"{weekday_names[i]}: Real = {real_means[i]:.2f}s | Protected = {protected_means[i]:.2f}s\")\n",
    "\n",
    "    # Optional: return for plotting\n",
    "    return weekday_names, real_means, protected_means\n",
    "\n",
    "show_mean_waiting_time_per_weekday(\n",
    "    lat=37.7749, lon=-122.4194,\n",
    "    grid_squares=[bbox_500],\n",
    "    avg_traversal_original=avg_traversal_original_500,\n",
    "    avg_traversal_protected=avg_traversal_protected_500,\n",
    "    unique_dates=unique_dates_500\n",
    ")\n"
   ]
  },
  {
   "cell_type": "code",
   "execution_count": 42,
   "id": "38114580",
   "metadata": {},
   "outputs": [
    {
     "data": {
      "text/plain": [
       "True"
      ]
     },
     "execution_count": 42,
     "metadata": {},
     "output_type": "execute_result"
    }
   ],
   "source": [
    "\n",
    "save_object(point_map_original_500, \n",
    "            \"../../datasets/PaperResults/traffic_maps/one_set_three_tensors/sf_traffic_map_500\")\n",
    "save_object(flow_map_original_500, \n",
    "            \"../../datasets/PaperResults/traffic_maps/one_set_three_tensors/sf_flow_map_500\")\n",
    "save_object(avg_traversal_original_500, \n",
    "            \"../../datasets/PaperResults/traffic_maps/one_set_three_tensors/sf_avgtrav_map_500\")\n",
    "save_object(unique_dates_500, \n",
    "            \"../../datasets/PaperResults/traffic_maps/one_set_three_tensors/sf_dates_map_500\")\n",
    "save_object(intervals_500, \n",
    "            \"../../datasets/PaperResults/traffic_maps/one_set_three_tensors/sf_intervals_map_500\")\n",
    "\n",
    "\n",
    "save_object(point_map_protected_500, \n",
    "            \"../../datasets/PaperResults/traffic_maps/one_set_three_tensors/sf_protected_traffic_map_500\")\n",
    "save_object(flow_map_protected_500, \n",
    "            \"../../datasets/PaperResults/traffic_maps/one_set_three_tensors/sf_protected_flow_map_500\")\n",
    "save_object(avg_traversal_protected_500, \n",
    "            \"../../datasets/PaperResults/traffic_maps/one_set_three_tensors/sf_protected_avgtrav_map_500\")"
   ]
  },
  {
   "cell_type": "code",
   "execution_count": null,
   "id": "7fb3e12d",
   "metadata": {},
   "outputs": [],
   "source": [
    "# porto_working_days_dict_300 = {day: traffic_map[day] for day in working_days if day in traffic_map}\n",
    "# protected_working_days_dict_34000 = {day: protected_traffic_map[day] for day in working_days if day in protected_traffic_map}\n"
   ]
  },
  {
   "cell_type": "code",
   "execution_count": null,
   "id": "f75b668a",
   "metadata": {},
   "outputs": [],
   "source": [
    "# for day in working_days:\n",
    "#     plot_traffic_one_day_for_poi(POI_LAT, POI_LON, grid_squares, porto_working_days_dict_300, protected_working_days_dict_34000, day, lmin=L_MIN)"
   ]
  }
 ],
 "metadata": {
  "kernelspec": {
   "display_name": "Python 3",
   "language": "python",
   "name": "python3"
  },
  "language_info": {
   "codemirror_mode": {
    "name": "ipython",
    "version": 3
   },
   "file_extension": ".py",
   "mimetype": "text/x-python",
   "name": "python",
   "nbconvert_exporter": "python",
   "pygments_lexer": "ipython3",
   "version": "3.11.2"
  }
 },
 "nbformat": 4,
 "nbformat_minor": 5
}
